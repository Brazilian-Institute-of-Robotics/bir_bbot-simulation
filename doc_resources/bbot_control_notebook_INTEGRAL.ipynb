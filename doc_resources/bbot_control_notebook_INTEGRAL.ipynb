{
  "cells": [
    {
      "cell_type": "markdown",
      "metadata": {
        "id": "LIJcFvpEzINk"
      },
      "source": [
        "# Bbot system and control analisys with Python\n",
        "---\n",
        "\n",
        "This Colab file was created for the tutorial about the control systems of Bbot, a self-balancing robot. This Colap contains the mathematical model, the control system project and simulation, as well as the simulation data plots and a gif generator with the performance of the system in the simulation.\n",
        "\n",
        "A better explanation of the code snippets here can be found in [rasc](https://mhar-vell.github.io/rasc/2021-09-23-py-control-bbot/)."
      ]
    },
    {
      "cell_type": "code",
      "execution_count": 2,
      "metadata": {
        "colab": {
          "base_uri": "https://localhost:8080/"
        },
        "id": "P3pYWuGwETvU",
        "outputId": "09af6089-36c2-4991-fd30-b7592dc88fd7"
      },
      "outputs": [],
      "source": [
        "# !pip install control\n",
        "# !pip install sympy"
      ]
    },
    {
      "cell_type": "markdown",
      "metadata": {
        "id": "S4XurFXxzINn"
      },
      "source": [
        "## Symbols Definitions\n",
        "---\n",
        "\n",
        "Here we define all the `sympy.symbols` used in the mathematical model of Bbot."
      ]
    },
    {
      "cell_type": "code",
      "execution_count": 3,
      "metadata": {
        "id": "R9aa1zJGzINo"
      },
      "outputs": [],
      "source": [
        "import numpy as np\n",
        "from sympy import *\n",
        "import matplotlib.pyplot as plt\n",
        "\n",
        "#--- Model Parameters ---\n",
        "d       = symbols('d',    real=True, positive=True)         # Distance between wheels\n",
        "visc    = symbols('c_alpha',real=True)                      # Viscous, damping constant \n",
        "l       = symbols('l',    real=True, positive=True)         # Height of the COM\n",
        "r       = symbols('r',    real=True, positive=True)         # Radius of the wheel\n",
        "Mp      = symbols('M_p',  real=True, positive=True)         # Mass of the pendulum without the wheels\n",
        "Mw      = symbols('M_w',  real=True, positive=True)         # Mass of each wheel\n",
        "Iw_c    = symbols('I_wc',  real=True)                       # MOI wheel center\n",
        "Iw_r    = symbols('I_wr',  real=True)                       # MOI wheel radial\n",
        "Ip_x    = symbols('I_px',  real=True)                       # MOI pendulum x\n",
        "Ip_y    = symbols('I_py',  real=True)                       # MOI pendulum y\n",
        "Ip_z    = symbols('I_pz',  real=True)                       # MOI pendulum z\n",
        "\n",
        "#--- Constants & Aux. variables ---\n",
        "g = symbols('g', constant=True)                             # Gravity acceleration\n",
        "t = symbols('t', real=True)                                 # Time\n",
        "\n",
        "#--- State Variables ---\n",
        "x           = symbols('x',  real=True)                      # Linear pos\n",
        "pitch       = symbols('theta',  real=True)                  # Pitch angle\n",
        "yaw         = symbols('psi',  real=True)                    # Yaw angle\n",
        "x_vel       = Derivative(x,t)                               # Linear vel\n",
        "pitch_vel   = Derivative(pitch,t)                           # Pitch vel\n",
        "yaw_vel     = Derivative(yaw,t)                             # Yaw vel\n",
        "x_acc       = Derivative(x_vel,t)                           # Linear acc\n",
        "pitch_acc   = Derivative(pitch_vel,t)                       # Pitch acc\n",
        "yaw_acc     = Derivative(yaw_vel,t)                         # Yaw acc\n",
        "\n",
        "#--- Inputs ---\n",
        "Tl = symbols('T_L', real=True)                              # Torque of the left wheel\n",
        "Tr = symbols('T_R', real=True)                              # Torque of the right wheel"
      ]
    },
    {
      "cell_type": "markdown",
      "metadata": {
        "id": "oiZQICCJzINp"
      },
      "source": [
        "## Defining all the matrices of the system\n",
        "----------\n",
        "\n",
        "Here we create `sympy.Matrix` objects based on the matrices of the system of ODE present in the articles referenced in [rasc](https://mhar-vell.github.io/rasc/2021-09-23-py-control-bbot/)."
      ]
    },
    {
      "cell_type": "code",
      "execution_count": 4,
      "metadata": {
        "id": "melPuwVfzINq"
      },
      "outputs": [],
      "source": [
        "\n",
        "#*--- Matrices for the 3 states model\n",
        "M = Matrix([[Mp+2*Mw+2*Iw_c/r**2, Mp*l*cos(pitch) ,                                                                     0],\n",
        "            [ Mp*l*cos(pitch)   , Ip_y+Mp*l**2    ,                                                                     0],\n",
        "            [0                  ,                0, Ip_z+2*Iw_r+(Mw+Iw_c/r**2)*d**2/2-(Ip_z-Ip_x-Mp*l**2)*sin(pitch)**2  ]])\n",
        "\n",
        "C = Matrix([[                      0, -Mp*l*pitch_vel*sin(pitch),                          -Mp*l*yaw_vel*sin(pitch)],\n",
        "            [                      0,                          0, (Ip_z-Ip_x-Mp*l**2)*yaw_vel*sin(pitch)*cos(pitch)],\n",
        "            [Mp*l*yaw_vel*sin(pitch), -(Ip_z-Ip_x-Mp*l**2)*yaw_vel*sin(pitch)*cos(pitch), -(Ip_z-Ip_x-Mp*l**2)*pitch_vel*sin(pitch)*cos(pitch)]])\n",
        "\n",
        "D = Matrix([[2*visc/r**2, -2*visc/r, 0],\n",
        "            [-2*visc/r, 2*visc, 0],\n",
        "            [0, 0, (d**2/(2*r**2))*visc]])\n",
        "\n",
        "B = Matrix([[     1/r,     1/r],\n",
        "            [      -1,      -1],\n",
        "            [-d/(2*r), d/(2*r)]])\n",
        "\n",
        "G = Matrix([[0],[-Mp*l*g*sin(pitch)], [0]])\n",
        "\n",
        "q = Matrix([[x],[pitch],[yaw]])\n",
        "\n",
        "q_diff = Matrix([[x_vel],[pitch_vel],[yaw_vel]])\n",
        "\n",
        "q_2diff = Matrix([[x_acc],[pitch_acc],[yaw_acc]])\n",
        "\n",
        "u = Matrix([[Tl],[Tr]])\n",
        "\n",
        "M_inv = M.inv()"
      ]
    },
    {
      "cell_type": "markdown",
      "metadata": {
        "id": "N5psbXNszINr"
      },
      "source": [
        "## Show system in expression form\n",
        "---\n",
        "\n",
        "Here we combine the all the matrices to form a column vector with all the ODEs of the system."
      ]
    },
    {
      "cell_type": "code",
      "execution_count": 5,
      "metadata": {
        "colab": {
          "base_uri": "https://localhost:8080/",
          "height": 226
        },
        "id": "0ziB9RCFzINs",
        "outputId": "4a5859c5-0bca-4517-fb0e-635941e6134c"
      },
      "outputs": [
        {
          "data": {
            "text/latex": [
              "$\\displaystyle \\left[\\begin{matrix}\\frac{d^{2}}{d t^{2}} x\\\\\\frac{d^{2}}{d t^{2}} \\theta\\\\\\frac{d^{2}}{d t^{2}} \\psi\\end{matrix}\\right] = \\left[\\begin{matrix}\\frac{M_{p} l r^{2} \\left(M_{p} g l \\sin{\\left(\\theta \\right)} - T_{L} - T_{R} - 2 c_{\\alpha} \\frac{d}{d t} \\theta + \\frac{2 c_{\\alpha} \\frac{d}{d t} x}{r} - \\left(- I_{px} + I_{pz} - M_{p} l^{2}\\right) \\sin{\\left(\\theta \\right)} \\cos{\\left(\\theta \\right)} \\left(\\frac{d}{d t} \\psi\\right)^{2}\\right) \\cos{\\left(\\theta \\right)}}{- 2 I_{py} I_{wc} - I_{py} M_{p} r^{2} - 2 I_{py} M_{w} r^{2} - 2 I_{wc} M_{p} l^{2} + M_{p}^{2} l^{2} r^{2} \\cos^{2}{\\left(\\theta \\right)} - M_{p}^{2} l^{2} r^{2} - 2 M_{p} M_{w} l^{2} r^{2}} + \\frac{\\left(- I_{py} r^{2} - M_{p} l^{2} r^{2}\\right) \\left(M_{p} l \\sin{\\left(\\theta \\right)} \\left(\\frac{d}{d t} \\psi\\right)^{2} + \\frac{T_{L}}{r} + \\frac{T_{R}}{r} - \\frac{2 c_{\\alpha} \\frac{d}{d t} x}{r^{2}} - \\left(- M_{p} l \\sin{\\left(\\theta \\right)} \\frac{d}{d t} \\theta - \\frac{2 c_{\\alpha}}{r}\\right) \\frac{d}{d t} \\theta\\right)}{- 2 I_{py} I_{wc} - I_{py} M_{p} r^{2} - 2 I_{py} M_{w} r^{2} - 2 I_{wc} M_{p} l^{2} + M_{p}^{2} l^{2} r^{2} \\cos^{2}{\\left(\\theta \\right)} - M_{p}^{2} l^{2} r^{2} - 2 M_{p} M_{w} l^{2} r^{2}}\\\\\\frac{M_{p} l r^{2} \\left(M_{p} l \\sin{\\left(\\theta \\right)} \\left(\\frac{d}{d t} \\psi\\right)^{2} + \\frac{T_{L}}{r} + \\frac{T_{R}}{r} - \\frac{2 c_{\\alpha} \\frac{d}{d t} x}{r^{2}} - \\left(- M_{p} l \\sin{\\left(\\theta \\right)} \\frac{d}{d t} \\theta - \\frac{2 c_{\\alpha}}{r}\\right) \\frac{d}{d t} \\theta\\right) \\cos{\\left(\\theta \\right)}}{- 2 I_{py} I_{wc} - I_{py} M_{p} r^{2} - 2 I_{py} M_{w} r^{2} - 2 I_{wc} M_{p} l^{2} + M_{p}^{2} l^{2} r^{2} \\cos^{2}{\\left(\\theta \\right)} - M_{p}^{2} l^{2} r^{2} - 2 M_{p} M_{w} l^{2} r^{2}} + \\frac{\\left(- 2 I_{wc} - M_{p} r^{2} - 2 M_{w} r^{2}\\right) \\left(M_{p} g l \\sin{\\left(\\theta \\right)} - T_{L} - T_{R} - 2 c_{\\alpha} \\frac{d}{d t} \\theta + \\frac{2 c_{\\alpha} \\frac{d}{d t} x}{r} - \\left(- I_{px} + I_{pz} - M_{p} l^{2}\\right) \\sin{\\left(\\theta \\right)} \\cos{\\left(\\theta \\right)} \\left(\\frac{d}{d t} \\psi\\right)^{2}\\right)}{- 2 I_{py} I_{wc} - I_{py} M_{p} r^{2} - 2 I_{py} M_{w} r^{2} - 2 I_{wc} M_{p} l^{2} + M_{p}^{2} l^{2} r^{2} \\cos^{2}{\\left(\\theta \\right)} - M_{p}^{2} l^{2} r^{2} - 2 M_{p} M_{w} l^{2} r^{2}}\\\\\\frac{2 r^{2} \\left(- M_{p} l \\sin{\\left(\\theta \\right)} \\frac{d}{d t} \\psi \\frac{d}{d t} x - \\frac{T_{L} d}{2 r} + \\frac{T_{R} d}{2 r} - \\left(\\frac{c_{\\alpha} d^{2}}{2 r^{2}} + \\left(I_{px} - I_{pz} + M_{p} l^{2}\\right) \\sin{\\left(\\theta \\right)} \\cos{\\left(\\theta \\right)} \\frac{d}{d t} \\theta\\right) \\frac{d}{d t} \\psi - \\left(I_{px} - I_{pz} + M_{p} l^{2}\\right) \\sin{\\left(\\theta \\right)} \\cos{\\left(\\theta \\right)} \\frac{d}{d t} \\psi \\frac{d}{d t} \\theta\\right)}{2 I_{px} r^{2} \\sin^{2}{\\left(\\theta \\right)} - 2 I_{pz} r^{2} \\sin^{2}{\\left(\\theta \\right)} + 2 I_{pz} r^{2} + I_{wc} d^{2} + 4 I_{wr} r^{2} + 2 M_{p} l^{2} r^{2} \\sin^{2}{\\left(\\theta \\right)} + M_{w} d^{2} r^{2}}\\end{matrix}\\right]$"
            ],
            "text/plain": [
              "Eq(Matrix([\n",
              "[    Derivative(x, (t, 2))],\n",
              "[Derivative(theta, (t, 2))],\n",
              "[  Derivative(psi, (t, 2))]]), Matrix([\n",
              "[     M_p*l*r**2*(M_p*g*l*sin(theta) - T_L - T_R - 2*c_alpha*Derivative(theta, t) + 2*c_alpha*Derivative(x, t)/r - (-I_px + I_pz - M_p*l**2)*sin(theta)*cos(theta)*Derivative(psi, t)**2)*cos(theta)/(-2*I_py*I_wc - I_py*M_p*r**2 - 2*I_py*M_w*r**2 - 2*I_wc*M_p*l**2 + M_p**2*l**2*r**2*cos(theta)**2 - M_p**2*l**2*r**2 - 2*M_p*M_w*l**2*r**2) + (-I_py*r**2 - M_p*l**2*r**2)*(M_p*l*sin(theta)*Derivative(psi, t)**2 + T_L/r + T_R/r - 2*c_alpha*Derivative(x, t)/r**2 - (-M_p*l*sin(theta)*Derivative(theta, t) - 2*c_alpha/r)*Derivative(theta, t))/(-2*I_py*I_wc - I_py*M_p*r**2 - 2*I_py*M_w*r**2 - 2*I_wc*M_p*l**2 + M_p**2*l**2*r**2*cos(theta)**2 - M_p**2*l**2*r**2 - 2*M_p*M_w*l**2*r**2)],\n",
              "[M_p*l*r**2*(M_p*l*sin(theta)*Derivative(psi, t)**2 + T_L/r + T_R/r - 2*c_alpha*Derivative(x, t)/r**2 - (-M_p*l*sin(theta)*Derivative(theta, t) - 2*c_alpha/r)*Derivative(theta, t))*cos(theta)/(-2*I_py*I_wc - I_py*M_p*r**2 - 2*I_py*M_w*r**2 - 2*I_wc*M_p*l**2 + M_p**2*l**2*r**2*cos(theta)**2 - M_p**2*l**2*r**2 - 2*M_p*M_w*l**2*r**2) + (-2*I_wc - M_p*r**2 - 2*M_w*r**2)*(M_p*g*l*sin(theta) - T_L - T_R - 2*c_alpha*Derivative(theta, t) + 2*c_alpha*Derivative(x, t)/r - (-I_px + I_pz - M_p*l**2)*sin(theta)*cos(theta)*Derivative(psi, t)**2)/(-2*I_py*I_wc - I_py*M_p*r**2 - 2*I_py*M_w*r**2 - 2*I_wc*M_p*l**2 + M_p**2*l**2*r**2*cos(theta)**2 - M_p**2*l**2*r**2 - 2*M_p*M_w*l**2*r**2)],\n",
              "[                                                                                                                                                                                                                                               2*r**2*(-M_p*l*sin(theta)*Derivative(psi, t)*Derivative(x, t) - T_L*d/(2*r) + T_R*d/(2*r) - (c_alpha*d**2/(2*r**2) + (I_px - I_pz + M_p*l**2)*sin(theta)*cos(theta)*Derivative(theta, t))*Derivative(psi, t) - (I_px - I_pz + M_p*l**2)*sin(theta)*cos(theta)*Derivative(psi, t)*Derivative(theta, t))/(2*I_px*r**2*sin(theta)**2 - 2*I_pz*r**2*sin(theta)**2 + 2*I_pz*r**2 + I_wc*d**2 + 4*I_wr*r**2 + 2*M_p*l**2*r**2*sin(theta)**2 + M_w*d**2*r**2)]]))"
            ]
          },
          "execution_count": 5,
          "metadata": {},
          "output_type": "execute_result"
        }
      ],
      "source": [
        "expr_model = M_inv*((B*u-G)-(C+D)*q_diff)\n",
        "eqts_model = Eq(q_2diff,expr_model)\n",
        "eqts_model"
      ]
    },
    {
      "cell_type": "code",
      "execution_count": 6,
      "metadata": {
        "colab": {
          "base_uri": "https://localhost:8080/",
          "height": 141
        },
        "id": "o3MNUygYzINt",
        "outputId": "a503ffdb-25b3-4230-86a5-ded4ceaa9bb6"
      },
      "outputs": [
        {
          "data": {
            "text/latex": [
              "$\\displaystyle \\left[\\begin{matrix}x_{1}\\\\x_{2}\\\\x_{3}\\\\x_{4}\\\\x_{5}\\\\x_{6}\\end{matrix}\\right] = \\left[\\begin{matrix}\\frac{d}{d t} x\\\\\\frac{d}{d t} \\theta\\\\\\frac{d}{d t} \\psi\\\\x\\\\\\theta\\\\\\psi\\end{matrix}\\right]$"
            ],
            "text/plain": [
              "Eq(Matrix([\n",
              "[x1],\n",
              "[x2],\n",
              "[x3],\n",
              "[x4],\n",
              "[x5],\n",
              "[x6]]), Matrix([\n",
              "[    Derivative(x, t)],\n",
              "[Derivative(theta, t)],\n",
              "[  Derivative(psi, t)],\n",
              "[                   x],\n",
              "[               theta],\n",
              "[                 psi]]))"
            ]
          },
          "execution_count": 6,
          "metadata": {},
          "output_type": "execute_result"
        }
      ],
      "source": [
        "\n",
        "#* Convert real variables into state-space variables\n",
        "\n",
        "# Build state vector\n",
        "real_state_vec = q_diff.row_insert(4,q)\n",
        "state_vec = Matrix(list(symbols('x1:7',real=True)))\n",
        "state_eq = Eq(state_vec,real_state_vec)\n",
        "state_eq"
      ]
    },
    {
      "cell_type": "code",
      "execution_count": 7,
      "metadata": {
        "colab": {
          "base_uri": "https://localhost:8080/",
          "height": 195
        },
        "id": "ICGhdM2rzINt",
        "outputId": "3197faf1-77ff-4e86-f365-0051b447085e"
      },
      "outputs": [
        {
          "data": {
            "text/latex": [
              "$\\displaystyle \\left[\\begin{matrix}\\frac{M_{p} l r^{2} \\left(M_{p} g l \\sin{\\left(x_{5} \\right)} - T_{L} - T_{R} - 2 c_{\\alpha} x_{2} + \\frac{2 c_{\\alpha} x_{1}}{r} - x_{3}^{2} \\left(- I_{px} + I_{pz} - M_{p} l^{2}\\right) \\sin{\\left(x_{5} \\right)} \\cos{\\left(x_{5} \\right)}\\right) \\cos{\\left(x_{5} \\right)}}{- 2 I_{py} I_{wc} - I_{py} M_{p} r^{2} - 2 I_{py} M_{w} r^{2} - 2 I_{wc} M_{p} l^{2} + M_{p}^{2} l^{2} r^{2} \\cos^{2}{\\left(x_{5} \\right)} - M_{p}^{2} l^{2} r^{2} - 2 M_{p} M_{w} l^{2} r^{2}} + \\frac{\\left(- I_{py} r^{2} - M_{p} l^{2} r^{2}\\right) \\left(M_{p} l x_{3}^{2} \\sin{\\left(x_{5} \\right)} + \\frac{T_{L}}{r} + \\frac{T_{R}}{r} - \\frac{2 c_{\\alpha} x_{1}}{r^{2}} - x_{2} \\left(- M_{p} l x_{2} \\sin{\\left(x_{5} \\right)} - \\frac{2 c_{\\alpha}}{r}\\right)\\right)}{- 2 I_{py} I_{wc} - I_{py} M_{p} r^{2} - 2 I_{py} M_{w} r^{2} - 2 I_{wc} M_{p} l^{2} + M_{p}^{2} l^{2} r^{2} \\cos^{2}{\\left(x_{5} \\right)} - M_{p}^{2} l^{2} r^{2} - 2 M_{p} M_{w} l^{2} r^{2}}\\\\\\frac{M_{p} l r^{2} \\left(M_{p} l x_{3}^{2} \\sin{\\left(x_{5} \\right)} + \\frac{T_{L}}{r} + \\frac{T_{R}}{r} - \\frac{2 c_{\\alpha} x_{1}}{r^{2}} - x_{2} \\left(- M_{p} l x_{2} \\sin{\\left(x_{5} \\right)} - \\frac{2 c_{\\alpha}}{r}\\right)\\right) \\cos{\\left(x_{5} \\right)}}{- 2 I_{py} I_{wc} - I_{py} M_{p} r^{2} - 2 I_{py} M_{w} r^{2} - 2 I_{wc} M_{p} l^{2} + M_{p}^{2} l^{2} r^{2} \\cos^{2}{\\left(x_{5} \\right)} - M_{p}^{2} l^{2} r^{2} - 2 M_{p} M_{w} l^{2} r^{2}} + \\frac{\\left(- 2 I_{wc} - M_{p} r^{2} - 2 M_{w} r^{2}\\right) \\left(M_{p} g l \\sin{\\left(x_{5} \\right)} - T_{L} - T_{R} - 2 c_{\\alpha} x_{2} + \\frac{2 c_{\\alpha} x_{1}}{r} - x_{3}^{2} \\left(- I_{px} + I_{pz} - M_{p} l^{2}\\right) \\sin{\\left(x_{5} \\right)} \\cos{\\left(x_{5} \\right)}\\right)}{- 2 I_{py} I_{wc} - I_{py} M_{p} r^{2} - 2 I_{py} M_{w} r^{2} - 2 I_{wc} M_{p} l^{2} + M_{p}^{2} l^{2} r^{2} \\cos^{2}{\\left(x_{5} \\right)} - M_{p}^{2} l^{2} r^{2} - 2 M_{p} M_{w} l^{2} r^{2}}\\\\\\frac{2 r^{2} \\left(- M_{p} l x_{1} x_{3} \\sin{\\left(x_{5} \\right)} - \\frac{T_{L} d}{2 r} + \\frac{T_{R} d}{2 r} - x_{2} x_{3} \\left(I_{px} - I_{pz} + M_{p} l^{2}\\right) \\sin{\\left(x_{5} \\right)} \\cos{\\left(x_{5} \\right)} - x_{3} \\left(\\frac{c_{\\alpha} d^{2}}{2 r^{2}} + x_{2} \\left(I_{px} - I_{pz} + M_{p} l^{2}\\right) \\sin{\\left(x_{5} \\right)} \\cos{\\left(x_{5} \\right)}\\right)\\right)}{2 I_{px} r^{2} \\sin^{2}{\\left(x_{5} \\right)} - 2 I_{pz} r^{2} \\sin^{2}{\\left(x_{5} \\right)} + 2 I_{pz} r^{2} + I_{wc} d^{2} + 4 I_{wr} r^{2} + 2 M_{p} l^{2} r^{2} \\sin^{2}{\\left(x_{5} \\right)} + M_{w} d^{2} r^{2}}\\\\x_{1}\\\\x_{2}\\\\x_{3}\\end{matrix}\\right]$"
            ],
            "text/plain": [
              "Matrix([\n",
              "[     M_p*l*r**2*(M_p*g*l*sin(x5) - T_L - T_R - 2*c_alpha*x2 + 2*c_alpha*x1/r - x3**2*(-I_px + I_pz - M_p*l**2)*sin(x5)*cos(x5))*cos(x5)/(-2*I_py*I_wc - I_py*M_p*r**2 - 2*I_py*M_w*r**2 - 2*I_wc*M_p*l**2 + M_p**2*l**2*r**2*cos(x5)**2 - M_p**2*l**2*r**2 - 2*M_p*M_w*l**2*r**2) + (-I_py*r**2 - M_p*l**2*r**2)*(M_p*l*x3**2*sin(x5) + T_L/r + T_R/r - 2*c_alpha*x1/r**2 - x2*(-M_p*l*x2*sin(x5) - 2*c_alpha/r))/(-2*I_py*I_wc - I_py*M_p*r**2 - 2*I_py*M_w*r**2 - 2*I_wc*M_p*l**2 + M_p**2*l**2*r**2*cos(x5)**2 - M_p**2*l**2*r**2 - 2*M_p*M_w*l**2*r**2)],\n",
              "[M_p*l*r**2*(M_p*l*x3**2*sin(x5) + T_L/r + T_R/r - 2*c_alpha*x1/r**2 - x2*(-M_p*l*x2*sin(x5) - 2*c_alpha/r))*cos(x5)/(-2*I_py*I_wc - I_py*M_p*r**2 - 2*I_py*M_w*r**2 - 2*I_wc*M_p*l**2 + M_p**2*l**2*r**2*cos(x5)**2 - M_p**2*l**2*r**2 - 2*M_p*M_w*l**2*r**2) + (-2*I_wc - M_p*r**2 - 2*M_w*r**2)*(M_p*g*l*sin(x5) - T_L - T_R - 2*c_alpha*x2 + 2*c_alpha*x1/r - x3**2*(-I_px + I_pz - M_p*l**2)*sin(x5)*cos(x5))/(-2*I_py*I_wc - I_py*M_p*r**2 - 2*I_py*M_w*r**2 - 2*I_wc*M_p*l**2 + M_p**2*l**2*r**2*cos(x5)**2 - M_p**2*l**2*r**2 - 2*M_p*M_w*l**2*r**2)],\n",
              "[                                                                                                                                                                                                                               2*r**2*(-M_p*l*x1*x3*sin(x5) - T_L*d/(2*r) + T_R*d/(2*r) - x2*x3*(I_px - I_pz + M_p*l**2)*sin(x5)*cos(x5) - x3*(c_alpha*d**2/(2*r**2) + x2*(I_px - I_pz + M_p*l**2)*sin(x5)*cos(x5)))/(2*I_px*r**2*sin(x5)**2 - 2*I_pz*r**2*sin(x5)**2 + 2*I_pz*r**2 + I_wc*d**2 + 4*I_wr*r**2 + 2*M_p*l**2*r**2*sin(x5)**2 + M_w*d**2*r**2)],\n",
              "[                                                                                                                                                                                                                                                                                                                                                                                                                                                                                                                                                         x1],\n",
              "[                                                                                                                                                                                                                                                                                                                                                                                                                                                                                                                                                         x2],\n",
              "[                                                                                                                                                                                                                                                                                                                                                                                                                                                                                                                                                         x3]])"
            ]
          },
          "execution_count": 7,
          "metadata": {},
          "output_type": "execute_result"
        }
      ],
      "source": [
        "#* Build the vector of system equations\n",
        "\n",
        "system_equations = expr_model.row_insert(4,q_diff)\n",
        "\n",
        "#* Substitute the real variables with the state-stape model variables: x1:x6\n",
        "\n",
        "for i in range(6):\n",
        "  system_equations = system_equations.subs(real_state_vec[i],state_vec[i])\n",
        "\n",
        "#* Show the system of equations that will be used in the state space form \n",
        "\n",
        "eq_sys = system_equations\n",
        "eq_sys"
      ]
    },
    {
      "cell_type": "code",
      "execution_count": 8,
      "metadata": {
        "colab": {
          "base_uri": "https://localhost:8080/",
          "height": 225
        },
        "id": "3XdqG55CzINu",
        "outputId": "c9698642-225c-45b8-dd82-a8330546345c"
      },
      "outputs": [
        {
          "data": {
            "text/latex": [
              "$\\displaystyle \\left[\\begin{matrix}\\frac{2 M_{p} c_{\\alpha} l r \\cos{\\left(x_{5} \\right)}}{- 2 I_{py} I_{wc} - I_{py} M_{p} r^{2} - 2 I_{py} M_{w} r^{2} - 2 I_{wc} M_{p} l^{2} + M_{p}^{2} l^{2} r^{2} \\cos^{2}{\\left(x_{5} \\right)} - M_{p}^{2} l^{2} r^{2} - 2 M_{p} M_{w} l^{2} r^{2}} - \\frac{2 c_{\\alpha} \\left(- I_{py} r^{2} - M_{p} l^{2} r^{2}\\right)}{r^{2} \\left(- 2 I_{py} I_{wc} - I_{py} M_{p} r^{2} - 2 I_{py} M_{w} r^{2} - 2 I_{wc} M_{p} l^{2} + M_{p}^{2} l^{2} r^{2} \\cos^{2}{\\left(x_{5} \\right)} - M_{p}^{2} l^{2} r^{2} - 2 M_{p} M_{w} l^{2} r^{2}\\right)} & - \\frac{2 M_{p} c_{\\alpha} l r^{2} \\cos{\\left(x_{5} \\right)}}{- 2 I_{py} I_{wc} - I_{py} M_{p} r^{2} - 2 I_{py} M_{w} r^{2} - 2 I_{wc} M_{p} l^{2} + M_{p}^{2} l^{2} r^{2} \\cos^{2}{\\left(x_{5} \\right)} - M_{p}^{2} l^{2} r^{2} - 2 M_{p} M_{w} l^{2} r^{2}} + \\frac{\\left(- I_{py} r^{2} - M_{p} l^{2} r^{2}\\right) \\left(2 M_{p} l x_{2} \\sin{\\left(x_{5} \\right)} + \\frac{2 c_{\\alpha}}{r}\\right)}{- 2 I_{py} I_{wc} - I_{py} M_{p} r^{2} - 2 I_{py} M_{w} r^{2} - 2 I_{wc} M_{p} l^{2} + M_{p}^{2} l^{2} r^{2} \\cos^{2}{\\left(x_{5} \\right)} - M_{p}^{2} l^{2} r^{2} - 2 M_{p} M_{w} l^{2} r^{2}} & - \\frac{2 M_{p} l r^{2} x_{3} \\left(- I_{px} + I_{pz} - M_{p} l^{2}\\right) \\sin{\\left(x_{5} \\right)} \\cos^{2}{\\left(x_{5} \\right)}}{- 2 I_{py} I_{wc} - I_{py} M_{p} r^{2} - 2 I_{py} M_{w} r^{2} - 2 I_{wc} M_{p} l^{2} + M_{p}^{2} l^{2} r^{2} \\cos^{2}{\\left(x_{5} \\right)} - M_{p}^{2} l^{2} r^{2} - 2 M_{p} M_{w} l^{2} r^{2}} + \\frac{2 M_{p} l x_{3} \\left(- I_{py} r^{2} - M_{p} l^{2} r^{2}\\right) \\sin{\\left(x_{5} \\right)}}{- 2 I_{py} I_{wc} - I_{py} M_{p} r^{2} - 2 I_{py} M_{w} r^{2} - 2 I_{wc} M_{p} l^{2} + M_{p}^{2} l^{2} r^{2} \\cos^{2}{\\left(x_{5} \\right)} - M_{p}^{2} l^{2} r^{2} - 2 M_{p} M_{w} l^{2} r^{2}} & 0 & \\frac{2 M_{p}^{3} l^{3} r^{4} \\left(M_{p} g l \\sin{\\left(x_{5} \\right)} - T_{L} - T_{R} - 2 c_{\\alpha} x_{2} + \\frac{2 c_{\\alpha} x_{1}}{r} - x_{3}^{2} \\left(- I_{px} + I_{pz} - M_{p} l^{2}\\right) \\sin{\\left(x_{5} \\right)} \\cos{\\left(x_{5} \\right)}\\right) \\sin{\\left(x_{5} \\right)} \\cos^{2}{\\left(x_{5} \\right)}}{\\left(- 2 I_{py} I_{wc} - I_{py} M_{p} r^{2} - 2 I_{py} M_{w} r^{2} - 2 I_{wc} M_{p} l^{2} + M_{p}^{2} l^{2} r^{2} \\cos^{2}{\\left(x_{5} \\right)} - M_{p}^{2} l^{2} r^{2} - 2 M_{p} M_{w} l^{2} r^{2}\\right)^{2}} + \\frac{2 M_{p}^{2} l^{2} r^{2} \\left(- I_{py} r^{2} - M_{p} l^{2} r^{2}\\right) \\left(M_{p} l x_{3}^{2} \\sin{\\left(x_{5} \\right)} + \\frac{T_{L}}{r} + \\frac{T_{R}}{r} - \\frac{2 c_{\\alpha} x_{1}}{r^{2}} - x_{2} \\left(- M_{p} l x_{2} \\sin{\\left(x_{5} \\right)} - \\frac{2 c_{\\alpha}}{r}\\right)\\right) \\sin{\\left(x_{5} \\right)} \\cos{\\left(x_{5} \\right)}}{\\left(- 2 I_{py} I_{wc} - I_{py} M_{p} r^{2} - 2 I_{py} M_{w} r^{2} - 2 I_{wc} M_{p} l^{2} + M_{p}^{2} l^{2} r^{2} \\cos^{2}{\\left(x_{5} \\right)} - M_{p}^{2} l^{2} r^{2} - 2 M_{p} M_{w} l^{2} r^{2}\\right)^{2}} + \\frac{M_{p} l r^{2} \\left(M_{p} g l \\cos{\\left(x_{5} \\right)} + x_{3}^{2} \\left(- I_{px} + I_{pz} - M_{p} l^{2}\\right) \\sin^{2}{\\left(x_{5} \\right)} - x_{3}^{2} \\left(- I_{px} + I_{pz} - M_{p} l^{2}\\right) \\cos^{2}{\\left(x_{5} \\right)}\\right) \\cos{\\left(x_{5} \\right)}}{- 2 I_{py} I_{wc} - I_{py} M_{p} r^{2} - 2 I_{py} M_{w} r^{2} - 2 I_{wc} M_{p} l^{2} + M_{p}^{2} l^{2} r^{2} \\cos^{2}{\\left(x_{5} \\right)} - M_{p}^{2} l^{2} r^{2} - 2 M_{p} M_{w} l^{2} r^{2}} - \\frac{M_{p} l r^{2} \\left(M_{p} g l \\sin{\\left(x_{5} \\right)} - T_{L} - T_{R} - 2 c_{\\alpha} x_{2} + \\frac{2 c_{\\alpha} x_{1}}{r} - x_{3}^{2} \\left(- I_{px} + I_{pz} - M_{p} l^{2}\\right) \\sin{\\left(x_{5} \\right)} \\cos{\\left(x_{5} \\right)}\\right) \\sin{\\left(x_{5} \\right)}}{- 2 I_{py} I_{wc} - I_{py} M_{p} r^{2} - 2 I_{py} M_{w} r^{2} - 2 I_{wc} M_{p} l^{2} + M_{p}^{2} l^{2} r^{2} \\cos^{2}{\\left(x_{5} \\right)} - M_{p}^{2} l^{2} r^{2} - 2 M_{p} M_{w} l^{2} r^{2}} + \\frac{\\left(- I_{py} r^{2} - M_{p} l^{2} r^{2}\\right) \\left(M_{p} l x_{2}^{2} \\cos{\\left(x_{5} \\right)} + M_{p} l x_{3}^{2} \\cos{\\left(x_{5} \\right)}\\right)}{- 2 I_{py} I_{wc} - I_{py} M_{p} r^{2} - 2 I_{py} M_{w} r^{2} - 2 I_{wc} M_{p} l^{2} + M_{p}^{2} l^{2} r^{2} \\cos^{2}{\\left(x_{5} \\right)} - M_{p}^{2} l^{2} r^{2} - 2 M_{p} M_{w} l^{2} r^{2}} & 0\\\\- \\frac{2 M_{p} c_{\\alpha} l \\cos{\\left(x_{5} \\right)}}{- 2 I_{py} I_{wc} - I_{py} M_{p} r^{2} - 2 I_{py} M_{w} r^{2} - 2 I_{wc} M_{p} l^{2} + M_{p}^{2} l^{2} r^{2} \\cos^{2}{\\left(x_{5} \\right)} - M_{p}^{2} l^{2} r^{2} - 2 M_{p} M_{w} l^{2} r^{2}} + \\frac{2 c_{\\alpha} \\left(- 2 I_{wc} - M_{p} r^{2} - 2 M_{w} r^{2}\\right)}{r \\left(- 2 I_{py} I_{wc} - I_{py} M_{p} r^{2} - 2 I_{py} M_{w} r^{2} - 2 I_{wc} M_{p} l^{2} + M_{p}^{2} l^{2} r^{2} \\cos^{2}{\\left(x_{5} \\right)} - M_{p}^{2} l^{2} r^{2} - 2 M_{p} M_{w} l^{2} r^{2}\\right)} & \\frac{M_{p} l r^{2} \\left(2 M_{p} l x_{2} \\sin{\\left(x_{5} \\right)} + \\frac{2 c_{\\alpha}}{r}\\right) \\cos{\\left(x_{5} \\right)}}{- 2 I_{py} I_{wc} - I_{py} M_{p} r^{2} - 2 I_{py} M_{w} r^{2} - 2 I_{wc} M_{p} l^{2} + M_{p}^{2} l^{2} r^{2} \\cos^{2}{\\left(x_{5} \\right)} - M_{p}^{2} l^{2} r^{2} - 2 M_{p} M_{w} l^{2} r^{2}} - \\frac{2 c_{\\alpha} \\left(- 2 I_{wc} - M_{p} r^{2} - 2 M_{w} r^{2}\\right)}{- 2 I_{py} I_{wc} - I_{py} M_{p} r^{2} - 2 I_{py} M_{w} r^{2} - 2 I_{wc} M_{p} l^{2} + M_{p}^{2} l^{2} r^{2} \\cos^{2}{\\left(x_{5} \\right)} - M_{p}^{2} l^{2} r^{2} - 2 M_{p} M_{w} l^{2} r^{2}} & \\frac{2 M_{p}^{2} l^{2} r^{2} x_{3} \\sin{\\left(x_{5} \\right)} \\cos{\\left(x_{5} \\right)}}{- 2 I_{py} I_{wc} - I_{py} M_{p} r^{2} - 2 I_{py} M_{w} r^{2} - 2 I_{wc} M_{p} l^{2} + M_{p}^{2} l^{2} r^{2} \\cos^{2}{\\left(x_{5} \\right)} - M_{p}^{2} l^{2} r^{2} - 2 M_{p} M_{w} l^{2} r^{2}} - \\frac{2 x_{3} \\left(- I_{px} + I_{pz} - M_{p} l^{2}\\right) \\left(- 2 I_{wc} - M_{p} r^{2} - 2 M_{w} r^{2}\\right) \\sin{\\left(x_{5} \\right)} \\cos{\\left(x_{5} \\right)}}{- 2 I_{py} I_{wc} - I_{py} M_{p} r^{2} - 2 I_{py} M_{w} r^{2} - 2 I_{wc} M_{p} l^{2} + M_{p}^{2} l^{2} r^{2} \\cos^{2}{\\left(x_{5} \\right)} - M_{p}^{2} l^{2} r^{2} - 2 M_{p} M_{w} l^{2} r^{2}} & 0 & \\frac{2 M_{p}^{3} l^{3} r^{4} \\left(M_{p} l x_{3}^{2} \\sin{\\left(x_{5} \\right)} + \\frac{T_{L}}{r} + \\frac{T_{R}}{r} - \\frac{2 c_{\\alpha} x_{1}}{r^{2}} - x_{2} \\left(- M_{p} l x_{2} \\sin{\\left(x_{5} \\right)} - \\frac{2 c_{\\alpha}}{r}\\right)\\right) \\sin{\\left(x_{5} \\right)} \\cos^{2}{\\left(x_{5} \\right)}}{\\left(- 2 I_{py} I_{wc} - I_{py} M_{p} r^{2} - 2 I_{py} M_{w} r^{2} - 2 I_{wc} M_{p} l^{2} + M_{p}^{2} l^{2} r^{2} \\cos^{2}{\\left(x_{5} \\right)} - M_{p}^{2} l^{2} r^{2} - 2 M_{p} M_{w} l^{2} r^{2}\\right)^{2}} + \\frac{2 M_{p}^{2} l^{2} r^{2} \\left(- 2 I_{wc} - M_{p} r^{2} - 2 M_{w} r^{2}\\right) \\left(M_{p} g l \\sin{\\left(x_{5} \\right)} - T_{L} - T_{R} - 2 c_{\\alpha} x_{2} + \\frac{2 c_{\\alpha} x_{1}}{r} - x_{3}^{2} \\left(- I_{px} + I_{pz} - M_{p} l^{2}\\right) \\sin{\\left(x_{5} \\right)} \\cos{\\left(x_{5} \\right)}\\right) \\sin{\\left(x_{5} \\right)} \\cos{\\left(x_{5} \\right)}}{\\left(- 2 I_{py} I_{wc} - I_{py} M_{p} r^{2} - 2 I_{py} M_{w} r^{2} - 2 I_{wc} M_{p} l^{2} + M_{p}^{2} l^{2} r^{2} \\cos^{2}{\\left(x_{5} \\right)} - M_{p}^{2} l^{2} r^{2} - 2 M_{p} M_{w} l^{2} r^{2}\\right)^{2}} + \\frac{M_{p} l r^{2} \\left(M_{p} l x_{2}^{2} \\cos{\\left(x_{5} \\right)} + M_{p} l x_{3}^{2} \\cos{\\left(x_{5} \\right)}\\right) \\cos{\\left(x_{5} \\right)}}{- 2 I_{py} I_{wc} - I_{py} M_{p} r^{2} - 2 I_{py} M_{w} r^{2} - 2 I_{wc} M_{p} l^{2} + M_{p}^{2} l^{2} r^{2} \\cos^{2}{\\left(x_{5} \\right)} - M_{p}^{2} l^{2} r^{2} - 2 M_{p} M_{w} l^{2} r^{2}} - \\frac{M_{p} l r^{2} \\left(M_{p} l x_{3}^{2} \\sin{\\left(x_{5} \\right)} + \\frac{T_{L}}{r} + \\frac{T_{R}}{r} - \\frac{2 c_{\\alpha} x_{1}}{r^{2}} - x_{2} \\left(- M_{p} l x_{2} \\sin{\\left(x_{5} \\right)} - \\frac{2 c_{\\alpha}}{r}\\right)\\right) \\sin{\\left(x_{5} \\right)}}{- 2 I_{py} I_{wc} - I_{py} M_{p} r^{2} - 2 I_{py} M_{w} r^{2} - 2 I_{wc} M_{p} l^{2} + M_{p}^{2} l^{2} r^{2} \\cos^{2}{\\left(x_{5} \\right)} - M_{p}^{2} l^{2} r^{2} - 2 M_{p} M_{w} l^{2} r^{2}} + \\frac{\\left(- 2 I_{wc} - M_{p} r^{2} - 2 M_{w} r^{2}\\right) \\left(M_{p} g l \\cos{\\left(x_{5} \\right)} + x_{3}^{2} \\left(- I_{px} + I_{pz} - M_{p} l^{2}\\right) \\sin^{2}{\\left(x_{5} \\right)} - x_{3}^{2} \\left(- I_{px} + I_{pz} - M_{p} l^{2}\\right) \\cos^{2}{\\left(x_{5} \\right)}\\right)}{- 2 I_{py} I_{wc} - I_{py} M_{p} r^{2} - 2 I_{py} M_{w} r^{2} - 2 I_{wc} M_{p} l^{2} + M_{p}^{2} l^{2} r^{2} \\cos^{2}{\\left(x_{5} \\right)} - M_{p}^{2} l^{2} r^{2} - 2 M_{p} M_{w} l^{2} r^{2}} & 0\\\\- \\frac{2 M_{p} l r^{2} x_{3} \\sin{\\left(x_{5} \\right)}}{2 I_{px} r^{2} \\sin^{2}{\\left(x_{5} \\right)} - 2 I_{pz} r^{2} \\sin^{2}{\\left(x_{5} \\right)} + 2 I_{pz} r^{2} + I_{wc} d^{2} + 4 I_{wr} r^{2} + 2 M_{p} l^{2} r^{2} \\sin^{2}{\\left(x_{5} \\right)} + M_{w} d^{2} r^{2}} & - \\frac{4 r^{2} x_{3} \\left(I_{px} - I_{pz} + M_{p} l^{2}\\right) \\sin{\\left(x_{5} \\right)} \\cos{\\left(x_{5} \\right)}}{2 I_{px} r^{2} \\sin^{2}{\\left(x_{5} \\right)} - 2 I_{pz} r^{2} \\sin^{2}{\\left(x_{5} \\right)} + 2 I_{pz} r^{2} + I_{wc} d^{2} + 4 I_{wr} r^{2} + 2 M_{p} l^{2} r^{2} \\sin^{2}{\\left(x_{5} \\right)} + M_{w} d^{2} r^{2}} & \\frac{2 r^{2} \\left(- M_{p} l x_{1} \\sin{\\left(x_{5} \\right)} - \\frac{c_{\\alpha} d^{2}}{2 r^{2}} - 2 x_{2} \\left(I_{px} - I_{pz} + M_{p} l^{2}\\right) \\sin{\\left(x_{5} \\right)} \\cos{\\left(x_{5} \\right)}\\right)}{2 I_{px} r^{2} \\sin^{2}{\\left(x_{5} \\right)} - 2 I_{pz} r^{2} \\sin^{2}{\\left(x_{5} \\right)} + 2 I_{pz} r^{2} + I_{wc} d^{2} + 4 I_{wr} r^{2} + 2 M_{p} l^{2} r^{2} \\sin^{2}{\\left(x_{5} \\right)} + M_{w} d^{2} r^{2}} & 0 & \\frac{2 r^{2} \\left(- 4 I_{px} r^{2} \\sin{\\left(x_{5} \\right)} \\cos{\\left(x_{5} \\right)} + 4 I_{pz} r^{2} \\sin{\\left(x_{5} \\right)} \\cos{\\left(x_{5} \\right)} - 4 M_{p} l^{2} r^{2} \\sin{\\left(x_{5} \\right)} \\cos{\\left(x_{5} \\right)}\\right) \\left(- M_{p} l x_{1} x_{3} \\sin{\\left(x_{5} \\right)} - \\frac{T_{L} d}{2 r} + \\frac{T_{R} d}{2 r} - x_{2} x_{3} \\left(I_{px} - I_{pz} + M_{p} l^{2}\\right) \\sin{\\left(x_{5} \\right)} \\cos{\\left(x_{5} \\right)} - x_{3} \\left(\\frac{c_{\\alpha} d^{2}}{2 r^{2}} + x_{2} \\left(I_{px} - I_{pz} + M_{p} l^{2}\\right) \\sin{\\left(x_{5} \\right)} \\cos{\\left(x_{5} \\right)}\\right)\\right)}{\\left(2 I_{px} r^{2} \\sin^{2}{\\left(x_{5} \\right)} - 2 I_{pz} r^{2} \\sin^{2}{\\left(x_{5} \\right)} + 2 I_{pz} r^{2} + I_{wc} d^{2} + 4 I_{wr} r^{2} + 2 M_{p} l^{2} r^{2} \\sin^{2}{\\left(x_{5} \\right)} + M_{w} d^{2} r^{2}\\right)^{2}} + \\frac{2 r^{2} \\left(- M_{p} l x_{1} x_{3} \\cos{\\left(x_{5} \\right)} + x_{2} x_{3} \\left(I_{px} - I_{pz} + M_{p} l^{2}\\right) \\sin^{2}{\\left(x_{5} \\right)} - x_{2} x_{3} \\left(I_{px} - I_{pz} + M_{p} l^{2}\\right) \\cos^{2}{\\left(x_{5} \\right)} - x_{3} \\left(- x_{2} \\left(I_{px} - I_{pz} + M_{p} l^{2}\\right) \\sin^{2}{\\left(x_{5} \\right)} + x_{2} \\left(I_{px} - I_{pz} + M_{p} l^{2}\\right) \\cos^{2}{\\left(x_{5} \\right)}\\right)\\right)}{2 I_{px} r^{2} \\sin^{2}{\\left(x_{5} \\right)} - 2 I_{pz} r^{2} \\sin^{2}{\\left(x_{5} \\right)} + 2 I_{pz} r^{2} + I_{wc} d^{2} + 4 I_{wr} r^{2} + 2 M_{p} l^{2} r^{2} \\sin^{2}{\\left(x_{5} \\right)} + M_{w} d^{2} r^{2}} & 0\\\\1 & 0 & 0 & 0 & 0 & 0\\\\0 & 1 & 0 & 0 & 0 & 0\\\\0 & 0 & 1 & 0 & 0 & 0\\end{matrix}\\right]$"
            ],
            "text/plain": [
              "Matrix([\n",
              "[ 2*M_p*c_alpha*l*r*cos(x5)/(-2*I_py*I_wc - I_py*M_p*r**2 - 2*I_py*M_w*r**2 - 2*I_wc*M_p*l**2 + M_p**2*l**2*r**2*cos(x5)**2 - M_p**2*l**2*r**2 - 2*M_p*M_w*l**2*r**2) - 2*c_alpha*(-I_py*r**2 - M_p*l**2*r**2)/(r**2*(-2*I_py*I_wc - I_py*M_p*r**2 - 2*I_py*M_w*r**2 - 2*I_wc*M_p*l**2 + M_p**2*l**2*r**2*cos(x5)**2 - M_p**2*l**2*r**2 - 2*M_p*M_w*l**2*r**2)),     -2*M_p*c_alpha*l*r**2*cos(x5)/(-2*I_py*I_wc - I_py*M_p*r**2 - 2*I_py*M_w*r**2 - 2*I_wc*M_p*l**2 + M_p**2*l**2*r**2*cos(x5)**2 - M_p**2*l**2*r**2 - 2*M_p*M_w*l**2*r**2) + (-I_py*r**2 - M_p*l**2*r**2)*(2*M_p*l*x2*sin(x5) + 2*c_alpha/r)/(-2*I_py*I_wc - I_py*M_p*r**2 - 2*I_py*M_w*r**2 - 2*I_wc*M_p*l**2 + M_p**2*l**2*r**2*cos(x5)**2 - M_p**2*l**2*r**2 - 2*M_p*M_w*l**2*r**2),          -2*M_p*l*r**2*x3*(-I_px + I_pz - M_p*l**2)*sin(x5)*cos(x5)**2/(-2*I_py*I_wc - I_py*M_p*r**2 - 2*I_py*M_w*r**2 - 2*I_wc*M_p*l**2 + M_p**2*l**2*r**2*cos(x5)**2 - M_p**2*l**2*r**2 - 2*M_p*M_w*l**2*r**2) + 2*M_p*l*x3*(-I_py*r**2 - M_p*l**2*r**2)*sin(x5)/(-2*I_py*I_wc - I_py*M_p*r**2 - 2*I_py*M_w*r**2 - 2*I_wc*M_p*l**2 + M_p**2*l**2*r**2*cos(x5)**2 - M_p**2*l**2*r**2 - 2*M_p*M_w*l**2*r**2), 0, 2*M_p**3*l**3*r**4*(M_p*g*l*sin(x5) - T_L - T_R - 2*c_alpha*x2 + 2*c_alpha*x1/r - x3**2*(-I_px + I_pz - M_p*l**2)*sin(x5)*cos(x5))*sin(x5)*cos(x5)**2/(-2*I_py*I_wc - I_py*M_p*r**2 - 2*I_py*M_w*r**2 - 2*I_wc*M_p*l**2 + M_p**2*l**2*r**2*cos(x5)**2 - M_p**2*l**2*r**2 - 2*M_p*M_w*l**2*r**2)**2 + 2*M_p**2*l**2*r**2*(-I_py*r**2 - M_p*l**2*r**2)*(M_p*l*x3**2*sin(x5) + T_L/r + T_R/r - 2*c_alpha*x1/r**2 - x2*(-M_p*l*x2*sin(x5) - 2*c_alpha/r))*sin(x5)*cos(x5)/(-2*I_py*I_wc - I_py*M_p*r**2 - 2*I_py*M_w*r**2 - 2*I_wc*M_p*l**2 + M_p**2*l**2*r**2*cos(x5)**2 - M_p**2*l**2*r**2 - 2*M_p*M_w*l**2*r**2)**2 + M_p*l*r**2*(M_p*g*l*cos(x5) + x3**2*(-I_px + I_pz - M_p*l**2)*sin(x5)**2 - x3**2*(-I_px + I_pz - M_p*l**2)*cos(x5)**2)*cos(x5)/(-2*I_py*I_wc - I_py*M_p*r**2 - 2*I_py*M_w*r**2 - 2*I_wc*M_p*l**2 + M_p**2*l**2*r**2*cos(x5)**2 - M_p**2*l**2*r**2 - 2*M_p*M_w*l**2*r**2) - M_p*l*r**2*(M_p*g*l*sin(x5) - T_L - T_R - 2*c_alpha*x2 + 2*c_alpha*x1/r - x3**2*(-I_px + I_pz - M_p*l**2)*sin(x5)*cos(x5))*sin(x5)/(-2*I_py*I_wc - I_py*M_p*r**2 - 2*I_py*M_w*r**2 - 2*I_wc*M_p*l**2 + M_p**2*l**2*r**2*cos(x5)**2 - M_p**2*l**2*r**2 - 2*M_p*M_w*l**2*r**2) + (-I_py*r**2 - M_p*l**2*r**2)*(M_p*l*x2**2*cos(x5) + M_p*l*x3**2*cos(x5))/(-2*I_py*I_wc - I_py*M_p*r**2 - 2*I_py*M_w*r**2 - 2*I_wc*M_p*l**2 + M_p**2*l**2*r**2*cos(x5)**2 - M_p**2*l**2*r**2 - 2*M_p*M_w*l**2*r**2), 0],\n",
              "[-2*M_p*c_alpha*l*cos(x5)/(-2*I_py*I_wc - I_py*M_p*r**2 - 2*I_py*M_w*r**2 - 2*I_wc*M_p*l**2 + M_p**2*l**2*r**2*cos(x5)**2 - M_p**2*l**2*r**2 - 2*M_p*M_w*l**2*r**2) + 2*c_alpha*(-2*I_wc - M_p*r**2 - 2*M_w*r**2)/(r*(-2*I_py*I_wc - I_py*M_p*r**2 - 2*I_py*M_w*r**2 - 2*I_wc*M_p*l**2 + M_p**2*l**2*r**2*cos(x5)**2 - M_p**2*l**2*r**2 - 2*M_p*M_w*l**2*r**2)), M_p*l*r**2*(2*M_p*l*x2*sin(x5) + 2*c_alpha/r)*cos(x5)/(-2*I_py*I_wc - I_py*M_p*r**2 - 2*I_py*M_w*r**2 - 2*I_wc*M_p*l**2 + M_p**2*l**2*r**2*cos(x5)**2 - M_p**2*l**2*r**2 - 2*M_p*M_w*l**2*r**2) - 2*c_alpha*(-2*I_wc - M_p*r**2 - 2*M_w*r**2)/(-2*I_py*I_wc - I_py*M_p*r**2 - 2*I_py*M_w*r**2 - 2*I_wc*M_p*l**2 + M_p**2*l**2*r**2*cos(x5)**2 - M_p**2*l**2*r**2 - 2*M_p*M_w*l**2*r**2), 2*M_p**2*l**2*r**2*x3*sin(x5)*cos(x5)/(-2*I_py*I_wc - I_py*M_p*r**2 - 2*I_py*M_w*r**2 - 2*I_wc*M_p*l**2 + M_p**2*l**2*r**2*cos(x5)**2 - M_p**2*l**2*r**2 - 2*M_p*M_w*l**2*r**2) - 2*x3*(-I_px + I_pz - M_p*l**2)*(-2*I_wc - M_p*r**2 - 2*M_w*r**2)*sin(x5)*cos(x5)/(-2*I_py*I_wc - I_py*M_p*r**2 - 2*I_py*M_w*r**2 - 2*I_wc*M_p*l**2 + M_p**2*l**2*r**2*cos(x5)**2 - M_p**2*l**2*r**2 - 2*M_p*M_w*l**2*r**2), 0,      2*M_p**3*l**3*r**4*(M_p*l*x3**2*sin(x5) + T_L/r + T_R/r - 2*c_alpha*x1/r**2 - x2*(-M_p*l*x2*sin(x5) - 2*c_alpha/r))*sin(x5)*cos(x5)**2/(-2*I_py*I_wc - I_py*M_p*r**2 - 2*I_py*M_w*r**2 - 2*I_wc*M_p*l**2 + M_p**2*l**2*r**2*cos(x5)**2 - M_p**2*l**2*r**2 - 2*M_p*M_w*l**2*r**2)**2 + 2*M_p**2*l**2*r**2*(-2*I_wc - M_p*r**2 - 2*M_w*r**2)*(M_p*g*l*sin(x5) - T_L - T_R - 2*c_alpha*x2 + 2*c_alpha*x1/r - x3**2*(-I_px + I_pz - M_p*l**2)*sin(x5)*cos(x5))*sin(x5)*cos(x5)/(-2*I_py*I_wc - I_py*M_p*r**2 - 2*I_py*M_w*r**2 - 2*I_wc*M_p*l**2 + M_p**2*l**2*r**2*cos(x5)**2 - M_p**2*l**2*r**2 - 2*M_p*M_w*l**2*r**2)**2 + M_p*l*r**2*(M_p*l*x2**2*cos(x5) + M_p*l*x3**2*cos(x5))*cos(x5)/(-2*I_py*I_wc - I_py*M_p*r**2 - 2*I_py*M_w*r**2 - 2*I_wc*M_p*l**2 + M_p**2*l**2*r**2*cos(x5)**2 - M_p**2*l**2*r**2 - 2*M_p*M_w*l**2*r**2) - M_p*l*r**2*(M_p*l*x3**2*sin(x5) + T_L/r + T_R/r - 2*c_alpha*x1/r**2 - x2*(-M_p*l*x2*sin(x5) - 2*c_alpha/r))*sin(x5)/(-2*I_py*I_wc - I_py*M_p*r**2 - 2*I_py*M_w*r**2 - 2*I_wc*M_p*l**2 + M_p**2*l**2*r**2*cos(x5)**2 - M_p**2*l**2*r**2 - 2*M_p*M_w*l**2*r**2) + (-2*I_wc - M_p*r**2 - 2*M_w*r**2)*(M_p*g*l*cos(x5) + x3**2*(-I_px + I_pz - M_p*l**2)*sin(x5)**2 - x3**2*(-I_px + I_pz - M_p*l**2)*cos(x5)**2)/(-2*I_py*I_wc - I_py*M_p*r**2 - 2*I_py*M_w*r**2 - 2*I_wc*M_p*l**2 + M_p**2*l**2*r**2*cos(x5)**2 - M_p**2*l**2*r**2 - 2*M_p*M_w*l**2*r**2), 0],\n",
              "[                                                                                                                                                                                               -2*M_p*l*r**2*x3*sin(x5)/(2*I_px*r**2*sin(x5)**2 - 2*I_pz*r**2*sin(x5)**2 + 2*I_pz*r**2 + I_wc*d**2 + 4*I_wr*r**2 + 2*M_p*l**2*r**2*sin(x5)**2 + M_w*d**2*r**2),                                                                                                                                                                                              -4*r**2*x3*(I_px - I_pz + M_p*l**2)*sin(x5)*cos(x5)/(2*I_px*r**2*sin(x5)**2 - 2*I_pz*r**2*sin(x5)**2 + 2*I_pz*r**2 + I_wc*d**2 + 4*I_wr*r**2 + 2*M_p*l**2*r**2*sin(x5)**2 + M_w*d**2*r**2),                                                                                                                                                                    2*r**2*(-M_p*l*x1*sin(x5) - c_alpha*d**2/(2*r**2) - 2*x2*(I_px - I_pz + M_p*l**2)*sin(x5)*cos(x5))/(2*I_px*r**2*sin(x5)**2 - 2*I_pz*r**2*sin(x5)**2 + 2*I_pz*r**2 + I_wc*d**2 + 4*I_wr*r**2 + 2*M_p*l**2*r**2*sin(x5)**2 + M_w*d**2*r**2), 0,                                                                                                                                                                                                                                                                                                                                                                                                                                                                                                                                                                                                             2*r**2*(-4*I_px*r**2*sin(x5)*cos(x5) + 4*I_pz*r**2*sin(x5)*cos(x5) - 4*M_p*l**2*r**2*sin(x5)*cos(x5))*(-M_p*l*x1*x3*sin(x5) - T_L*d/(2*r) + T_R*d/(2*r) - x2*x3*(I_px - I_pz + M_p*l**2)*sin(x5)*cos(x5) - x3*(c_alpha*d**2/(2*r**2) + x2*(I_px - I_pz + M_p*l**2)*sin(x5)*cos(x5)))/(2*I_px*r**2*sin(x5)**2 - 2*I_pz*r**2*sin(x5)**2 + 2*I_pz*r**2 + I_wc*d**2 + 4*I_wr*r**2 + 2*M_p*l**2*r**2*sin(x5)**2 + M_w*d**2*r**2)**2 + 2*r**2*(-M_p*l*x1*x3*cos(x5) + x2*x3*(I_px - I_pz + M_p*l**2)*sin(x5)**2 - x2*x3*(I_px - I_pz + M_p*l**2)*cos(x5)**2 - x3*(-x2*(I_px - I_pz + M_p*l**2)*sin(x5)**2 + x2*(I_px - I_pz + M_p*l**2)*cos(x5)**2))/(2*I_px*r**2*sin(x5)**2 - 2*I_pz*r**2*sin(x5)**2 + 2*I_pz*r**2 + I_wc*d**2 + 4*I_wr*r**2 + 2*M_p*l**2*r**2*sin(x5)**2 + M_w*d**2*r**2), 0],\n",
              "[                                                                                                                                                                                                                                                                                                                                                             1,                                                                                                                                                                                                                                                                                                                                                                                       0,                                                                                                                                                                                                                                                                                                                                                                                                            0, 0,                                                                                                                                                                                                                                                                                                                                                                                                                                                                                                                                                                                                                                                                                                                                                                                                                                                                                                                                                                                                                                                                                                                                                                                                                                                                                                                                                                                                 0, 0],\n",
              "[                                                                                                                                                                                                                                                                                                                                                             0,                                                                                                                                                                                                                                                                                                                                                                                       1,                                                                                                                                                                                                                                                                                                                                                                                                            0, 0,                                                                                                                                                                                                                                                                                                                                                                                                                                                                                                                                                                                                                                                                                                                                                                                                                                                                                                                                                                                                                                                                                                                                                                                                                                                                                                                                                                                                 0, 0],\n",
              "[                                                                                                                                                                                                                                                                                                                                                             0,                                                                                                                                                                                                                                                                                                                                                                                       0,                                                                                                                                                                                                                                                                                                                                                                                                            1, 0,                                                                                                                                                                                                                                                                                                                                                                                                                                                                                                                                                                                                                                                                                                                                                                                                                                                                                                                                                                                                                                                                                                                                                                                                                                                                                                                                                                                                 0, 0]])"
            ]
          },
          "execution_count": 8,
          "metadata": {},
          "output_type": "execute_result"
        }
      ],
      "source": [
        "\n",
        "#* Calcualte the jacobian for the A and B matrix of the continuos time system\n",
        "Ac = system_equations.jacobian(state_vec)\n",
        "Bc = system_equations.jacobian(u)\n",
        "\n",
        "Ac\n",
        "# Bc"
      ]
    },
    {
      "cell_type": "markdown",
      "metadata": {
        "id": "7fw3NSjVzINu"
      },
      "source": [
        "## Applying Model Parameters & Fixed Point\n",
        "---\n",
        "\n",
        "Here we define the fixed point around which the system is linearized. We also apply this point, as well as the model parameters, to the jacobian matrices previously calculated."
      ]
    },
    {
      "cell_type": "code",
      "execution_count": 9,
      "metadata": {
        "colab": {
          "base_uri": "https://localhost:8080/",
          "height": 138
        },
        "id": "nJ2VqSG-zINu",
        "outputId": "1de46947-7304-4b90-d94c-87da9e248946"
      },
      "outputs": [
        {
          "data": {
            "text/latex": [
              "$\\displaystyle \\left[\\begin{matrix}17.7754685546368 & 17.7754685546368\\\\-138.183171594359 & -138.183171594359\\\\-147.0382821871 & 147.0382821871\\\\0 & 0\\\\0 & 0\\\\0 & 0\\end{matrix}\\right]$"
            ],
            "text/plain": [
              "Matrix([\n",
              "[ 17.7754685546368,  17.7754685546368],\n",
              "[-138.183171594359, -138.183171594359],\n",
              "[  -147.0382821871,    147.0382821871],\n",
              "[                0,                 0],\n",
              "[                0,                 0],\n",
              "[                0,                 0]])"
            ]
          },
          "execution_count": 9,
          "metadata": {},
          "output_type": "execute_result"
        }
      ],
      "source": [
        "\n",
        "#* Evaluate Ac and Bc at the fixed points\n",
        "\n",
        "fixed_point = [0,0,0,0.17,0,0] # Values for dx/dt\n",
        "input_fixed_points = [0,0]\n",
        "\n",
        "Ac_eval = Ac.subs([(state_vec[0], fixed_point[0]),\n",
        "                   (state_vec[1], fixed_point[1]),\n",
        "                   (state_vec[2], fixed_point[2]),\n",
        "                   (state_vec[3], fixed_point[3]),\n",
        "                   (state_vec[4], fixed_point[4]),\n",
        "                   (state_vec[5], fixed_point[5]),\n",
        "                   (Tl,input_fixed_points[0]),\n",
        "                   (Tr,input_fixed_points[1])])\n",
        "\n",
        "Bc_eval = Bc.subs([(state_vec[0], fixed_point[0]),\n",
        "                   (state_vec[1], fixed_point[1]),\n",
        "                   (state_vec[2], fixed_point[2]),\n",
        "                   (state_vec[3], fixed_point[3]),\n",
        "                   (state_vec[4], fixed_point[4]),\n",
        "                   (state_vec[5], fixed_point[5]),\n",
        "                   (Tl,input_fixed_points[0]),\n",
        "                   (Tr,input_fixed_points[1])])\n",
        "\n",
        "# Define the values of each Model Parameter\n",
        "\n",
        "d_v    = (d,    0.1431)\n",
        "visc_v = (visc, 0.01)\n",
        "r_v    = (r,    0.05)\n",
        "Mp_v   = (Mp,   1.68)\n",
        "Mw_v   = (Mw,   0.200)\n",
        "Iw_c_v = (Iw_c, 2.795e-4)\n",
        "Iw_r_v = (Iw_r, 1.568e-4)\n",
        "g_v    = (g,    9.81)\n",
        "\n",
        "#-- Pose A ---\n",
        "# l_v    = (l,   0.1806)\n",
        "# Ip_x_v = (Ip_x, 0.02500992)\n",
        "# Ip_y_v = (Ip_y, 0.02255237)\n",
        "# Ip_z_v = (Ip_z, 0.00546422)\n",
        "\n",
        "#-- Pose B ---\n",
        "# l_v    = (l,   0.17348)\n",
        "# Ip_x_v = (Ip_x, 0.02387201)\n",
        "# Ip_y_v = (Ip_y, 0.02163341)\n",
        "# Ip_z_v = (Ip_z, 0.00568317)\n",
        "\n",
        "#-- Pose C ---\n",
        "l_v    = (l,   0.09023379)\n",
        "Ip_x_v = (Ip_x, 0.01424258)\n",
        "Ip_y_v = (Ip_y, 0.01305842)\n",
        "Ip_z_v = (Ip_z, 0.0062261)\n",
        "\n",
        "#* Plug in the Model parameters values \n",
        "\n",
        "Ac_lin = Ac_eval.subs([d_v,visc_v,l_v,r_v,Mp_v,Mw_v,Iw_c_v,Iw_r_v,Ip_x_v,Ip_y_v,Ip_z_v,g_v])\n",
        "Bc_lin = Bc_eval.subs([d_v,visc_v,l_v,r_v,Mp_v,Mw_v,Iw_c_v,Iw_r_v,Ip_x_v,Ip_y_v,Ip_z_v,g_v])\n",
        "\n",
        "Ac_np = np.array(Ac_lin) # Converts it into a numpy array\n",
        "Bc_np = np.array(Bc_lin) # Converts it into a numpy array\n",
        "\n",
        "Matrix(Bc_np)"
      ]
    },
    {
      "cell_type": "markdown",
      "metadata": {
        "id": "YdWdqQ72zINv"
      },
      "source": [
        "## Discretization of the system \n",
        "---\n",
        "\n",
        "Here we use the `control.c2d` function to discretize the system using the *zero-order hold* method. The system was defined as a state-space system using the `control.ss` function."
      ]
    },
    {
      "cell_type": "code",
      "execution_count": 10,
      "metadata": {
        "id": "X50ghyFbzINv"
      },
      "outputs": [],
      "source": [
        "import control.matlab as ctl\n",
        "\n",
        "Ts = 0.0125 # Sampling period. Fs = 100 hz\n",
        "\n",
        "sysc = ctl.ss(Ac_np,Bc_np,np.eye(6),np.zeros((6,2)))\n",
        "sysd = ctl.c2d(sysc,Ts,method='zoh')\n",
        "Ad = sysd.A\n",
        "Bd = sysd.B"
      ]
    },
    {
      "cell_type": "code",
      "execution_count": 11,
      "metadata": {
        "colab": {
          "base_uri": "https://localhost:8080/",
          "height": 98
        },
        "id": "VJIsKy7FzINw",
        "outputId": "58d97fe7-f523-4a66-b743-853fa5f7b6f2"
      },
      "outputs": [
        {
          "data": {
            "text/latex": [
              "$\\displaystyle \\left[\\begin{matrix}0.916290516436285 & 0.00375189469501096 & 0 & -0.0676620369594211\\\\0.651498643644762 & 0.97418504228394 & 0 & 1.06890913718733\\\\0 & 0 & 0.948756645846121 & 0\\\\0.0041507105723957 & 0.0123208015471576 & 0 & 1.00675997446618\\end{matrix}\\right]$"
            ],
            "text/plain": [
              "Matrix([\n",
              "[ 0.916290516436285, 0.00375189469501096,                 0, -0.0676620369594211],\n",
              "[ 0.651498643644762,    0.97418504228394,                 0,    1.06890913718733],\n",
              "[                 0,                   0, 0.948756645846121,                   0],\n",
              "[0.0041507105723957,  0.0123208015471576,                 0,    1.00675997446618]])"
            ]
          },
          "execution_count": 11,
          "metadata": {},
          "output_type": "execute_result"
        }
      ],
      "source": [
        "\n",
        "# Reduce the system to 4 states, only, ignoring the linear and Yaw positions\n",
        "\n",
        "Ar = np.zeros((4,4))\n",
        "Ar[0:3,0:3] = Ad[0:3,0:3]\n",
        "Ar[3,0:3]   = Ad[4,0:3]\n",
        "Ar[0:3,3]   = Ad[0:3,4].reshape(3,)\n",
        "Ar[3,3]     = Ad[4,4]\n",
        "\n",
        "Br = np.zeros((4,2))\n",
        "Br[0:3,:]   = Bd[0:3,:]\n",
        "Br[3,:]     = Bd[4,:]\n",
        "\n",
        "Matrix(Ar)\n",
        "# Matrix(Br)"
      ]
    },
    {
      "cell_type": "code",
      "execution_count": 12,
      "metadata": {
        "colab": {
          "base_uri": "https://localhost:8080/"
        },
        "id": "vdp1p7JBanKy",
        "outputId": "df8f24c1-5b6c-433f-b6d4-74dab049e8e6"
      },
      "outputs": [
        {
          "data": {
            "text/plain": [
              "0.0125"
            ]
          },
          "execution_count": 12,
          "metadata": {},
          "output_type": "execute_result"
        }
      ],
      "source": [
        "C_ss_r = np.diag([1,1,1,1])\n",
        "D_ss_r = np.zeros((4,2))\n",
        "sys_red = ctl.ss(Ar, Br, C_ss_r, D_ss_r,dt=0.0125)\n",
        "sys_red.dt"
      ]
    },
    {
      "cell_type": "markdown",
      "metadata": {
        "id": "r1RCHsszD-Wy"
      },
      "source": [
        "##  Motor Model\n",
        "---"
      ]
    },
    {
      "cell_type": "code",
      "execution_count": 572,
      "metadata": {
        "colab": {
          "base_uri": "https://localhost:8080/",
          "height": 38
        },
        "id": "XHwJ_-m1D-Wy",
        "outputId": "b2a442d2-a53d-43f2-f0e9-36c4a7b7a87a"
      },
      "outputs": [
        {
          "data": {
            "text/latex": [
              "$$\\frac{1.324 \\times 10^{-5}}{z - 0.8444}\\quad dt = 0.0125$$"
            ],
            "text/plain": [
              "TransferFunction(array([1.3236e-05]), array([ 1.    , -0.8444]), 0.0125)"
            ]
          },
          "execution_count": 572,
          "metadata": {},
          "output_type": "execute_result"
        }
      ],
      "source": [
        "motor_modeltf = ctl.tf([0.0006618*0.02],[1, -0.8444], 0.0125)\n",
        "# motor_modeld = ctl.c2d(motor_modelc,Ts=0.01,method='zoh')\n",
        "motor_modeltf\n",
        "# Y, T = ctl.step(motor_modelc)\n",
        "# plt.plot(T,Y)"
      ]
    },
    {
      "cell_type": "code",
      "execution_count": 573,
      "metadata": {
        "colab": {
          "base_uri": "https://localhost:8080/",
          "height": 367
        },
        "id": "NjlJiI-Lhlpy",
        "outputId": "4eeefd6b-60e2-4cf5-fe63-49b511e2ae9d"
      },
      "outputs": [
        {
          "data": {
            "text/plain": [
              "[<matplotlib.lines.Line2D at 0x7f6e3c880e50>]"
            ]
          },
          "execution_count": 573,
          "metadata": {},
          "output_type": "execute_result"
        },
        {
          "data": {
            "image/png": "[encoded data removed]",
            "text/plain": [
              "<Figure size 432x288 with 1 Axes>"
            ]
          },
          "metadata": {
            "needs_background": "light"
          },
          "output_type": "display_data"
        }
      ],
      "source": [
        "%matplotlib inline\n",
        "motor_modelss = ctl.tf2ss(motor_modeltf)\n",
        "timee = np.arange(0, 4+0.01, 0.0125)\n",
        "a = [0]\n",
        "y_motor = [0]\n",
        "for timeee in timee[:-1]:\n",
        "  a.append(motor_modelss.dynamics(t=timeee,x=[a[-1]],u=[1]))\n",
        "  y_motor.append(motor_modelss.C@a[-1])\n",
        "\n",
        "plt.plot(timee,a)\n",
        "plt.plot(timee,y_motor)"
      ]
    },
    {
      "cell_type": "code",
      "execution_count": 574,
      "metadata": {
        "colab": {
          "base_uri": "https://localhost:8080/"
        },
        "id": "XpFD1Lfuwm-o",
        "outputId": "10a52b5b-7d05-4beb-cb16-32ba6507ae10"
      },
      "outputs": [
        {
          "name": "stdout",
          "output_type": "stream",
          "text": [
            "[[3.4777]]\n",
            "[[4.60308372e-05]]\n"
          ]
        }
      ],
      "source": [
        "statesss = motor_modelss.dynamics(t=timeee,x=[1.75],u=[2])\n",
        "print(statesss)\n",
        "print(motor_modelss.C@statesss)"
      ]
    },
    {
      "cell_type": "code",
      "execution_count": 575,
      "metadata": {
        "colab": {
          "base_uri": "https://localhost:8080/"
        },
        "id": "lCQJNptqD-W0",
        "outputId": "61b00b79-6281-4ddf-b81c-8a403894cde0"
      },
      "outputs": [
        {
          "data": {
            "text/latex": [
              "\\[\n",
              "\\left(\n",
              "\\begin{array}{rllrll|rllrll}\n",
              "0.&\\hspace{-1em}844&\\hspace{-1em}\\phantom{\\cdot}&0\\phantom{.}&\\hspace{-1em}&\\hspace{-1em}\\phantom{\\cdot}&1\\phantom{.}&\\hspace{-1em}&\\hspace{-1em}\\phantom{\\cdot}&0\\phantom{.}&\\hspace{-1em}&\\hspace{-1em}\\phantom{\\cdot}\\\\\n",
              "0\\phantom{.}&\\hspace{-1em}&\\hspace{-1em}\\phantom{\\cdot}&0.&\\hspace{-1em}844&\\hspace{-1em}\\phantom{\\cdot}&0\\phantom{.}&\\hspace{-1em}&\\hspace{-1em}\\phantom{\\cdot}&1\\phantom{.}&\\hspace{-1em}&\\hspace{-1em}\\phantom{\\cdot}\\\\\n",
              "\\hline\n",
              "1.&\\hspace{-1em}32&\\hspace{-1em}\\cdot10^{-5}&0\\phantom{.}&\\hspace{-1em}&\\hspace{-1em}\\phantom{\\cdot}&0\\phantom{.}&\\hspace{-1em}&\\hspace{-1em}\\phantom{\\cdot}&0\\phantom{.}&\\hspace{-1em}&\\hspace{-1em}\\phantom{\\cdot}\\\\\n",
              "0\\phantom{.}&\\hspace{-1em}&\\hspace{-1em}\\phantom{\\cdot}&1.&\\hspace{-1em}32&\\hspace{-1em}\\cdot10^{-5}&0\\phantom{.}&\\hspace{-1em}&\\hspace{-1em}\\phantom{\\cdot}&0\\phantom{.}&\\hspace{-1em}&\\hspace{-1em}\\phantom{\\cdot}\\\\\n",
              "\\end{array}\\right)\n",
              "\\]"
            ],
            "text/plain": [
              "StateSpace(array([[0.8444, 0.    ],\n",
              "       [0.    , 0.8444]]), array([[1., 0.],\n",
              "       [0., 1.]]), array([[1.3236e-05, 0.0000e+00],\n",
              "       [0.0000e+00, 1.3236e-05]]), array([[0., 0.],\n",
              "       [0., 0.]]), 0.0125)"
            ]
          },
          "execution_count": 575,
          "metadata": {},
          "output_type": "execute_result"
        }
      ],
      "source": [
        "motor_modelss = ctl.tf2ss(motor_modeltf)\n",
        "motor_model2 = ctl.append(motor_modelss, motor_modelss)\n",
        "motor_model2"
      ]
    },
    {
      "cell_type": "code",
      "execution_count": 576,
      "metadata": {
        "colab": {
          "base_uri": "https://localhost:8080/",
          "height": 281
        },
        "id": "ntOzXQt1tsoX",
        "outputId": "805e6537-551e-4ff5-d6a4-605010cf1bf5"
      },
      "outputs": [
        {
          "data": {
            "text/plain": [
              "[<matplotlib.lines.Line2D at 0x7f6e3cd5c460>]"
            ]
          },
          "execution_count": 576,
          "metadata": {},
          "output_type": "execute_result"
        },
        {
          "data": {
            "image/png": "[encoded data removed]",
            "text/plain": [
              "<Figure size 432x288 with 1 Axes>"
            ]
          },
          "metadata": {
            "needs_background": "light"
          },
          "output_type": "display_data"
        }
      ],
      "source": [
        "timee = np.arange(0, 4+0.01, 0.01)\n",
        "a = np.array([[0,0]])\n",
        "y_motor = np.array([[0,0]])\n",
        "for timeee in timee[:-1]:\n",
        "  a = np.vstack((a, motor_model2.dynamics(t=timeee,x=a[-1],u=[1,0.5]) ))\n",
        "  y_motor = np.vstack((y_motor,(motor_model2.C@a[-1].reshape(2,1)).reshape(1,2)))\n",
        "\n",
        "plt.plot(timee,a[:,0],'r')\n",
        "plt.plot(timee,a[:,1],'b')\n",
        "plt.plot(timee,y_motor[:,0],'r--')\n",
        "plt.plot(timee,y_motor[:,1],'b--')"
      ]
    },
    {
      "cell_type": "markdown",
      "metadata": {
        "id": "RuKJSD6BaNq6"
      },
      "source": [
        "## Adding Motor Model to the SBR model\n",
        "---\n"
      ]
    },
    {
      "cell_type": "code",
      "execution_count": 577,
      "metadata": {
        "colab": {
          "base_uri": "https://localhost:8080/"
        },
        "id": "QKL3PDczD-W2",
        "outputId": "2365e019-d307-4a7f-b435-77a7ae63917f"
      },
      "outputs": [
        {
          "data": {
            "text/latex": [
              "\\[\n",
              "\\left(\n",
              "\\begin{array}{rllrllrllrllrllrll|rllrll}\n",
              "0.&\\hspace{-1em}916&\\hspace{-1em}\\phantom{\\cdot}&0.&\\hspace{-1em}00375&\\hspace{-1em}\\phantom{\\cdot}&0\\phantom{.}&\\hspace{-1em}&\\hspace{-1em}\\phantom{\\cdot}&-0.&\\hspace{-1em}0677&\\hspace{-1em}\\phantom{\\cdot}&2.&\\hspace{-1em}77&\\hspace{-1em}\\cdot10^{-6}&2.&\\hspace{-1em}77&\\hspace{-1em}\\cdot10^{-6}&0\\phantom{.}&\\hspace{-1em}&\\hspace{-1em}\\phantom{\\cdot}&0\\phantom{.}&\\hspace{-1em}&\\hspace{-1em}\\phantom{\\cdot}\\\\\n",
              "0.&\\hspace{-1em}651&\\hspace{-1em}\\phantom{\\cdot}&0.&\\hspace{-1em}974&\\hspace{-1em}\\phantom{\\cdot}&0\\phantom{.}&\\hspace{-1em}&\\hspace{-1em}\\phantom{\\cdot}&1.&\\hspace{-1em}07&\\hspace{-1em}\\phantom{\\cdot}&-2.&\\hspace{-1em}16&\\hspace{-1em}\\cdot10^{-5}&-2.&\\hspace{-1em}16&\\hspace{-1em}\\cdot10^{-5}&0\\phantom{.}&\\hspace{-1em}&\\hspace{-1em}\\phantom{\\cdot}&0\\phantom{.}&\\hspace{-1em}&\\hspace{-1em}\\phantom{\\cdot}\\\\\n",
              "0\\phantom{.}&\\hspace{-1em}&\\hspace{-1em}\\phantom{\\cdot}&0\\phantom{.}&\\hspace{-1em}&\\hspace{-1em}\\phantom{\\cdot}&0.&\\hspace{-1em}949&\\hspace{-1em}\\phantom{\\cdot}&0\\phantom{.}&\\hspace{-1em}&\\hspace{-1em}\\phantom{\\cdot}&-2.&\\hspace{-1em}37&\\hspace{-1em}\\cdot10^{-5}&2.&\\hspace{-1em}37&\\hspace{-1em}\\cdot10^{-5}&0\\phantom{.}&\\hspace{-1em}&\\hspace{-1em}\\phantom{\\cdot}&0\\phantom{.}&\\hspace{-1em}&\\hspace{-1em}\\phantom{\\cdot}\\\\\n",
              "0.&\\hspace{-1em}00415&\\hspace{-1em}\\phantom{\\cdot}&0.&\\hspace{-1em}0123&\\hspace{-1em}\\phantom{\\cdot}&0\\phantom{.}&\\hspace{-1em}&\\hspace{-1em}\\phantom{\\cdot}&1.&\\hspace{-1em}01&\\hspace{-1em}\\phantom{\\cdot}&-1.&\\hspace{-1em}37&\\hspace{-1em}\\cdot10^{-7}&-1.&\\hspace{-1em}37&\\hspace{-1em}\\cdot10^{-7}&0\\phantom{.}&\\hspace{-1em}&\\hspace{-1em}\\phantom{\\cdot}&0\\phantom{.}&\\hspace{-1em}&\\hspace{-1em}\\phantom{\\cdot}\\\\\n",
              "0\\phantom{.}&\\hspace{-1em}&\\hspace{-1em}\\phantom{\\cdot}&0\\phantom{.}&\\hspace{-1em}&\\hspace{-1em}\\phantom{\\cdot}&0\\phantom{.}&\\hspace{-1em}&\\hspace{-1em}\\phantom{\\cdot}&0\\phantom{.}&\\hspace{-1em}&\\hspace{-1em}\\phantom{\\cdot}&0.&\\hspace{-1em}844&\\hspace{-1em}\\phantom{\\cdot}&0\\phantom{.}&\\hspace{-1em}&\\hspace{-1em}\\phantom{\\cdot}&1\\phantom{.}&\\hspace{-1em}&\\hspace{-1em}\\phantom{\\cdot}&0\\phantom{.}&\\hspace{-1em}&\\hspace{-1em}\\phantom{\\cdot}\\\\\n",
              "0\\phantom{.}&\\hspace{-1em}&\\hspace{-1em}\\phantom{\\cdot}&0\\phantom{.}&\\hspace{-1em}&\\hspace{-1em}\\phantom{\\cdot}&0\\phantom{.}&\\hspace{-1em}&\\hspace{-1em}\\phantom{\\cdot}&0\\phantom{.}&\\hspace{-1em}&\\hspace{-1em}\\phantom{\\cdot}&0\\phantom{.}&\\hspace{-1em}&\\hspace{-1em}\\phantom{\\cdot}&0.&\\hspace{-1em}844&\\hspace{-1em}\\phantom{\\cdot}&0\\phantom{.}&\\hspace{-1em}&\\hspace{-1em}\\phantom{\\cdot}&1\\phantom{.}&\\hspace{-1em}&\\hspace{-1em}\\phantom{\\cdot}\\\\\n",
              "\\hline\n",
              "1\\phantom{.}&\\hspace{-1em}&\\hspace{-1em}\\phantom{\\cdot}&0\\phantom{.}&\\hspace{-1em}&\\hspace{-1em}\\phantom{\\cdot}&0\\phantom{.}&\\hspace{-1em}&\\hspace{-1em}\\phantom{\\cdot}&0\\phantom{.}&\\hspace{-1em}&\\hspace{-1em}\\phantom{\\cdot}&0\\phantom{.}&\\hspace{-1em}&\\hspace{-1em}\\phantom{\\cdot}&0\\phantom{.}&\\hspace{-1em}&\\hspace{-1em}\\phantom{\\cdot}&0\\phantom{.}&\\hspace{-1em}&\\hspace{-1em}\\phantom{\\cdot}&0\\phantom{.}&\\hspace{-1em}&\\hspace{-1em}\\phantom{\\cdot}\\\\\n",
              "0\\phantom{.}&\\hspace{-1em}&\\hspace{-1em}\\phantom{\\cdot}&1\\phantom{.}&\\hspace{-1em}&\\hspace{-1em}\\phantom{\\cdot}&0\\phantom{.}&\\hspace{-1em}&\\hspace{-1em}\\phantom{\\cdot}&0\\phantom{.}&\\hspace{-1em}&\\hspace{-1em}\\phantom{\\cdot}&0\\phantom{.}&\\hspace{-1em}&\\hspace{-1em}\\phantom{\\cdot}&0\\phantom{.}&\\hspace{-1em}&\\hspace{-1em}\\phantom{\\cdot}&0\\phantom{.}&\\hspace{-1em}&\\hspace{-1em}\\phantom{\\cdot}&0\\phantom{.}&\\hspace{-1em}&\\hspace{-1em}\\phantom{\\cdot}\\\\\n",
              "0\\phantom{.}&\\hspace{-1em}&\\hspace{-1em}\\phantom{\\cdot}&0\\phantom{.}&\\hspace{-1em}&\\hspace{-1em}\\phantom{\\cdot}&1\\phantom{.}&\\hspace{-1em}&\\hspace{-1em}\\phantom{\\cdot}&0\\phantom{.}&\\hspace{-1em}&\\hspace{-1em}\\phantom{\\cdot}&0\\phantom{.}&\\hspace{-1em}&\\hspace{-1em}\\phantom{\\cdot}&0\\phantom{.}&\\hspace{-1em}&\\hspace{-1em}\\phantom{\\cdot}&0\\phantom{.}&\\hspace{-1em}&\\hspace{-1em}\\phantom{\\cdot}&0\\phantom{.}&\\hspace{-1em}&\\hspace{-1em}\\phantom{\\cdot}\\\\\n",
              "0\\phantom{.}&\\hspace{-1em}&\\hspace{-1em}\\phantom{\\cdot}&0\\phantom{.}&\\hspace{-1em}&\\hspace{-1em}\\phantom{\\cdot}&0\\phantom{.}&\\hspace{-1em}&\\hspace{-1em}\\phantom{\\cdot}&1\\phantom{.}&\\hspace{-1em}&\\hspace{-1em}\\phantom{\\cdot}&0\\phantom{.}&\\hspace{-1em}&\\hspace{-1em}\\phantom{\\cdot}&0\\phantom{.}&\\hspace{-1em}&\\hspace{-1em}\\phantom{\\cdot}&0\\phantom{.}&\\hspace{-1em}&\\hspace{-1em}\\phantom{\\cdot}&0\\phantom{.}&\\hspace{-1em}&\\hspace{-1em}\\phantom{\\cdot}\\\\\n",
              "\\end{array}\\right)\n",
              "\\]"
            ],
            "text/plain": [
              "StateSpace(array([[ 9.16290516e-01,  3.75189470e-03,  0.00000000e+00,\n",
              "        -6.76620370e-02,  2.76994681e-06,  2.76994681e-06],\n",
              "       [ 6.51498644e-01,  9.74185042e-01,  0.00000000e+00,\n",
              "         1.06890914e+00, -2.15580901e-05, -2.15580901e-05],\n",
              "       [ 0.00000000e+00,  0.00000000e+00,  9.48756646e-01,\n",
              "         0.00000000e+00, -2.36987084e-05,  2.36987084e-05],\n",
              "       [ 4.15071057e-03,  1.23208015e-02,  0.00000000e+00,\n",
              "         1.00675997e+00, -1.37347013e-07, -1.37347013e-07],\n",
              "       [ 0.00000000e+00,  0.00000000e+00,  0.00000000e+00,\n",
              "         0.00000000e+00,  8.44400000e-01,  0.00000000e+00],\n",
              "       [ 0.00000000e+00,  0.00000000e+00,  0.00000000e+00,\n",
              "         0.00000000e+00,  0.00000000e+00,  8.44400000e-01]]), array([[0., 0.],\n",
              "       [0., 0.],\n",
              "       [0., 0.],\n",
              "       [0., 0.],\n",
              "       [1., 0.],\n",
              "       [0., 1.]]), array([[1., 0., 0., 0., 0., 0.],\n",
              "       [0., 1., 0., 0., 0., 0.],\n",
              "       [0., 0., 1., 0., 0., 0.],\n",
              "       [0., 0., 0., 1., 0., 0.]]), array([[0., 0.],\n",
              "       [0., 0.],\n",
              "       [0., 0.],\n",
              "       [0., 0.]]), 0.01)"
            ]
          },
          "execution_count": 577,
          "metadata": {},
          "output_type": "execute_result"
        }
      ],
      "source": [
        "Afinal = np.hstack((sys_red.A, sys_red.B@motor_model2.C))\n",
        "Afinal2 = np.hstack((np.zeros((motor_model2.nstates,4)), motor_model2.A))\n",
        "Afinal = np.vstack((Afinal, Afinal2))\n",
        "\n",
        "Bfinal = np.vstack((np.zeros((4, 2)), motor_model2.B))\n",
        "\n",
        "Cfinal = np.hstack((sys_red.C, np.zeros((4,motor_model2.nstates))))\n",
        "Cfinal2 = np.hstack((np.zeros((2,4)), motor_model2.C))\n",
        "Cfinal = np.vstack((Cfinal, Cfinal2))\n",
        "Cfinal[-2,-2] = 0\n",
        "Cfinal[-1,-1] = 0\n",
        "\n",
        "Dfinal = np.zeros((4,2))\n",
        "\n",
        "sys_final = ctl.ss(Afinal, Bfinal, Cfinal[0:4,:], Dfinal,dt=0.01)\n",
        "sys_final"
      ]
    },
    {
      "cell_type": "code",
      "execution_count": 578,
      "metadata": {
        "colab": {
          "base_uri": "https://localhost:8080/",
          "height": 138
        },
        "id": "ntquSTzU0mtO",
        "outputId": "fdac996b-4272-4326-fcf8-6face24701e4"
      },
      "outputs": [
        {
          "data": {
            "text/latex": [
              "$\\displaystyle \\left[\\begin{matrix}0.833994178811508\\\\0.965181336194869\\\\1.09806001818003\\\\0.948756645846121\\\\0.8444\\\\0.8444\\end{matrix}\\right]$"
            ],
            "text/plain": [
              "Matrix([\n",
              "[0.833994178811508],\n",
              "[0.965181336194869],\n",
              "[ 1.09806001818003],\n",
              "[0.948756645846121],\n",
              "[           0.8444],\n",
              "[           0.8444]])"
            ]
          },
          "execution_count": 578,
          "metadata": {},
          "output_type": "execute_result"
        }
      ],
      "source": [
        "Matrix(abs(sys_final.pole()))"
      ]
    },
    {
      "cell_type": "code",
      "execution_count": 579,
      "metadata": {
        "colab": {
          "base_uri": "https://localhost:8080/"
        },
        "id": "6agZXJ3mD-W3",
        "outputId": "cbfa76de-7906-47a1-d95d-1e1b430aeef0"
      },
      "outputs": [
        {
          "name": "stdout",
          "output_type": "stream",
          "text": [
            "6\n",
            "6\n"
          ]
        }
      ],
      "source": [
        "ctrb_m = ctl.ctrb(sys_final.A,sys_final.B)\n",
        "rank_ctrb = np.linalg.matrix_rank(ctrb_m) # If result is 6, the system is controlable\n",
        "\n",
        "obs_m = ctl.obsv(sys_final.A,sys_final.C)\n",
        "rank_obs = np.linalg.matrix_rank(obs_m) # If result is 6, the system is observable\n",
        "\n",
        "print(rank_ctrb)\n",
        "print(rank_obs)"
      ]
    },
    {
      "cell_type": "markdown",
      "metadata": {},
      "source": [
        "## Augmented System\n",
        "---"
      ]
    },
    {
      "cell_type": "code",
      "execution_count": 580,
      "metadata": {},
      "outputs": [
        {
          "data": {
            "text/latex": [
              "\\[\n",
              "\\left(\n",
              "\\begin{array}{rllrllrllrllrllrllrllrll|rllrll}\n",
              "0.&\\hspace{-1em}916&\\hspace{-1em}\\phantom{\\cdot}&0.&\\hspace{-1em}00375&\\hspace{-1em}\\phantom{\\cdot}&0\\phantom{.}&\\hspace{-1em}&\\hspace{-1em}\\phantom{\\cdot}&-0.&\\hspace{-1em}0677&\\hspace{-1em}\\phantom{\\cdot}&2.&\\hspace{-1em}77&\\hspace{-1em}\\cdot10^{-6}&2.&\\hspace{-1em}77&\\hspace{-1em}\\cdot10^{-6}&0\\phantom{.}&\\hspace{-1em}&\\hspace{-1em}\\phantom{\\cdot}&0\\phantom{.}&\\hspace{-1em}&\\hspace{-1em}\\phantom{\\cdot}&0\\phantom{.}&\\hspace{-1em}&\\hspace{-1em}\\phantom{\\cdot}&0\\phantom{.}&\\hspace{-1em}&\\hspace{-1em}\\phantom{\\cdot}\\\\\n",
              "0.&\\hspace{-1em}651&\\hspace{-1em}\\phantom{\\cdot}&0.&\\hspace{-1em}974&\\hspace{-1em}\\phantom{\\cdot}&0\\phantom{.}&\\hspace{-1em}&\\hspace{-1em}\\phantom{\\cdot}&1.&\\hspace{-1em}07&\\hspace{-1em}\\phantom{\\cdot}&-2.&\\hspace{-1em}16&\\hspace{-1em}\\cdot10^{-5}&-2.&\\hspace{-1em}16&\\hspace{-1em}\\cdot10^{-5}&0\\phantom{.}&\\hspace{-1em}&\\hspace{-1em}\\phantom{\\cdot}&0\\phantom{.}&\\hspace{-1em}&\\hspace{-1em}\\phantom{\\cdot}&0\\phantom{.}&\\hspace{-1em}&\\hspace{-1em}\\phantom{\\cdot}&0\\phantom{.}&\\hspace{-1em}&\\hspace{-1em}\\phantom{\\cdot}\\\\\n",
              "0\\phantom{.}&\\hspace{-1em}&\\hspace{-1em}\\phantom{\\cdot}&0\\phantom{.}&\\hspace{-1em}&\\hspace{-1em}\\phantom{\\cdot}&0.&\\hspace{-1em}949&\\hspace{-1em}\\phantom{\\cdot}&0\\phantom{.}&\\hspace{-1em}&\\hspace{-1em}\\phantom{\\cdot}&-2.&\\hspace{-1em}37&\\hspace{-1em}\\cdot10^{-5}&2.&\\hspace{-1em}37&\\hspace{-1em}\\cdot10^{-5}&0\\phantom{.}&\\hspace{-1em}&\\hspace{-1em}\\phantom{\\cdot}&0\\phantom{.}&\\hspace{-1em}&\\hspace{-1em}\\phantom{\\cdot}&0\\phantom{.}&\\hspace{-1em}&\\hspace{-1em}\\phantom{\\cdot}&0\\phantom{.}&\\hspace{-1em}&\\hspace{-1em}\\phantom{\\cdot}\\\\\n",
              "0.&\\hspace{-1em}00415&\\hspace{-1em}\\phantom{\\cdot}&0.&\\hspace{-1em}0123&\\hspace{-1em}\\phantom{\\cdot}&0\\phantom{.}&\\hspace{-1em}&\\hspace{-1em}\\phantom{\\cdot}&1.&\\hspace{-1em}01&\\hspace{-1em}\\phantom{\\cdot}&-1.&\\hspace{-1em}37&\\hspace{-1em}\\cdot10^{-7}&-1.&\\hspace{-1em}37&\\hspace{-1em}\\cdot10^{-7}&0\\phantom{.}&\\hspace{-1em}&\\hspace{-1em}\\phantom{\\cdot}&0\\phantom{.}&\\hspace{-1em}&\\hspace{-1em}\\phantom{\\cdot}&0\\phantom{.}&\\hspace{-1em}&\\hspace{-1em}\\phantom{\\cdot}&0\\phantom{.}&\\hspace{-1em}&\\hspace{-1em}\\phantom{\\cdot}\\\\\n",
              "0\\phantom{.}&\\hspace{-1em}&\\hspace{-1em}\\phantom{\\cdot}&0\\phantom{.}&\\hspace{-1em}&\\hspace{-1em}\\phantom{\\cdot}&0\\phantom{.}&\\hspace{-1em}&\\hspace{-1em}\\phantom{\\cdot}&0\\phantom{.}&\\hspace{-1em}&\\hspace{-1em}\\phantom{\\cdot}&0.&\\hspace{-1em}844&\\hspace{-1em}\\phantom{\\cdot}&0\\phantom{.}&\\hspace{-1em}&\\hspace{-1em}\\phantom{\\cdot}&0\\phantom{.}&\\hspace{-1em}&\\hspace{-1em}\\phantom{\\cdot}&0\\phantom{.}&\\hspace{-1em}&\\hspace{-1em}\\phantom{\\cdot}&1\\phantom{.}&\\hspace{-1em}&\\hspace{-1em}\\phantom{\\cdot}&0\\phantom{.}&\\hspace{-1em}&\\hspace{-1em}\\phantom{\\cdot}\\\\\n",
              "0\\phantom{.}&\\hspace{-1em}&\\hspace{-1em}\\phantom{\\cdot}&0\\phantom{.}&\\hspace{-1em}&\\hspace{-1em}\\phantom{\\cdot}&0\\phantom{.}&\\hspace{-1em}&\\hspace{-1em}\\phantom{\\cdot}&0\\phantom{.}&\\hspace{-1em}&\\hspace{-1em}\\phantom{\\cdot}&0\\phantom{.}&\\hspace{-1em}&\\hspace{-1em}\\phantom{\\cdot}&0.&\\hspace{-1em}844&\\hspace{-1em}\\phantom{\\cdot}&0\\phantom{.}&\\hspace{-1em}&\\hspace{-1em}\\phantom{\\cdot}&0\\phantom{.}&\\hspace{-1em}&\\hspace{-1em}\\phantom{\\cdot}&0\\phantom{.}&\\hspace{-1em}&\\hspace{-1em}\\phantom{\\cdot}&1\\phantom{.}&\\hspace{-1em}&\\hspace{-1em}\\phantom{\\cdot}\\\\\n",
              "-1\\phantom{.}&\\hspace{-1em}&\\hspace{-1em}\\phantom{\\cdot}&0\\phantom{.}&\\hspace{-1em}&\\hspace{-1em}\\phantom{\\cdot}&0\\phantom{.}&\\hspace{-1em}&\\hspace{-1em}\\phantom{\\cdot}&0\\phantom{.}&\\hspace{-1em}&\\hspace{-1em}\\phantom{\\cdot}&0\\phantom{.}&\\hspace{-1em}&\\hspace{-1em}\\phantom{\\cdot}&0\\phantom{.}&\\hspace{-1em}&\\hspace{-1em}\\phantom{\\cdot}&1\\phantom{.}&\\hspace{-1em}&\\hspace{-1em}\\phantom{\\cdot}&0\\phantom{.}&\\hspace{-1em}&\\hspace{-1em}\\phantom{\\cdot}&0\\phantom{.}&\\hspace{-1em}&\\hspace{-1em}\\phantom{\\cdot}&0\\phantom{.}&\\hspace{-1em}&\\hspace{-1em}\\phantom{\\cdot}\\\\\n",
              "0\\phantom{.}&\\hspace{-1em}&\\hspace{-1em}\\phantom{\\cdot}&0\\phantom{.}&\\hspace{-1em}&\\hspace{-1em}\\phantom{\\cdot}&-1\\phantom{.}&\\hspace{-1em}&\\hspace{-1em}\\phantom{\\cdot}&0\\phantom{.}&\\hspace{-1em}&\\hspace{-1em}\\phantom{\\cdot}&0\\phantom{.}&\\hspace{-1em}&\\hspace{-1em}\\phantom{\\cdot}&0\\phantom{.}&\\hspace{-1em}&\\hspace{-1em}\\phantom{\\cdot}&0\\phantom{.}&\\hspace{-1em}&\\hspace{-1em}\\phantom{\\cdot}&1\\phantom{.}&\\hspace{-1em}&\\hspace{-1em}\\phantom{\\cdot}&0\\phantom{.}&\\hspace{-1em}&\\hspace{-1em}\\phantom{\\cdot}&0\\phantom{.}&\\hspace{-1em}&\\hspace{-1em}\\phantom{\\cdot}\\\\\n",
              "\\hline\n",
              "1\\phantom{.}&\\hspace{-1em}&\\hspace{-1em}\\phantom{\\cdot}&0\\phantom{.}&\\hspace{-1em}&\\hspace{-1em}\\phantom{\\cdot}&0\\phantom{.}&\\hspace{-1em}&\\hspace{-1em}\\phantom{\\cdot}&0\\phantom{.}&\\hspace{-1em}&\\hspace{-1em}\\phantom{\\cdot}&0\\phantom{.}&\\hspace{-1em}&\\hspace{-1em}\\phantom{\\cdot}&0\\phantom{.}&\\hspace{-1em}&\\hspace{-1em}\\phantom{\\cdot}&0\\phantom{.}&\\hspace{-1em}&\\hspace{-1em}\\phantom{\\cdot}&0\\phantom{.}&\\hspace{-1em}&\\hspace{-1em}\\phantom{\\cdot}&0\\phantom{.}&\\hspace{-1em}&\\hspace{-1em}\\phantom{\\cdot}&0\\phantom{.}&\\hspace{-1em}&\\hspace{-1em}\\phantom{\\cdot}\\\\\n",
              "0\\phantom{.}&\\hspace{-1em}&\\hspace{-1em}\\phantom{\\cdot}&1\\phantom{.}&\\hspace{-1em}&\\hspace{-1em}\\phantom{\\cdot}&0\\phantom{.}&\\hspace{-1em}&\\hspace{-1em}\\phantom{\\cdot}&0\\phantom{.}&\\hspace{-1em}&\\hspace{-1em}\\phantom{\\cdot}&0\\phantom{.}&\\hspace{-1em}&\\hspace{-1em}\\phantom{\\cdot}&0\\phantom{.}&\\hspace{-1em}&\\hspace{-1em}\\phantom{\\cdot}&0\\phantom{.}&\\hspace{-1em}&\\hspace{-1em}\\phantom{\\cdot}&0\\phantom{.}&\\hspace{-1em}&\\hspace{-1em}\\phantom{\\cdot}&0\\phantom{.}&\\hspace{-1em}&\\hspace{-1em}\\phantom{\\cdot}&0\\phantom{.}&\\hspace{-1em}&\\hspace{-1em}\\phantom{\\cdot}\\\\\n",
              "0\\phantom{.}&\\hspace{-1em}&\\hspace{-1em}\\phantom{\\cdot}&0\\phantom{.}&\\hspace{-1em}&\\hspace{-1em}\\phantom{\\cdot}&1\\phantom{.}&\\hspace{-1em}&\\hspace{-1em}\\phantom{\\cdot}&0\\phantom{.}&\\hspace{-1em}&\\hspace{-1em}\\phantom{\\cdot}&0\\phantom{.}&\\hspace{-1em}&\\hspace{-1em}\\phantom{\\cdot}&0\\phantom{.}&\\hspace{-1em}&\\hspace{-1em}\\phantom{\\cdot}&0\\phantom{.}&\\hspace{-1em}&\\hspace{-1em}\\phantom{\\cdot}&0\\phantom{.}&\\hspace{-1em}&\\hspace{-1em}\\phantom{\\cdot}&0\\phantom{.}&\\hspace{-1em}&\\hspace{-1em}\\phantom{\\cdot}&0\\phantom{.}&\\hspace{-1em}&\\hspace{-1em}\\phantom{\\cdot}\\\\\n",
              "0\\phantom{.}&\\hspace{-1em}&\\hspace{-1em}\\phantom{\\cdot}&0\\phantom{.}&\\hspace{-1em}&\\hspace{-1em}\\phantom{\\cdot}&0\\phantom{.}&\\hspace{-1em}&\\hspace{-1em}\\phantom{\\cdot}&1\\phantom{.}&\\hspace{-1em}&\\hspace{-1em}\\phantom{\\cdot}&0\\phantom{.}&\\hspace{-1em}&\\hspace{-1em}\\phantom{\\cdot}&0\\phantom{.}&\\hspace{-1em}&\\hspace{-1em}\\phantom{\\cdot}&0\\phantom{.}&\\hspace{-1em}&\\hspace{-1em}\\phantom{\\cdot}&0\\phantom{.}&\\hspace{-1em}&\\hspace{-1em}\\phantom{\\cdot}&0\\phantom{.}&\\hspace{-1em}&\\hspace{-1em}\\phantom{\\cdot}&0\\phantom{.}&\\hspace{-1em}&\\hspace{-1em}\\phantom{\\cdot}\\\\\n",
              "0\\phantom{.}&\\hspace{-1em}&\\hspace{-1em}\\phantom{\\cdot}&0\\phantom{.}&\\hspace{-1em}&\\hspace{-1em}\\phantom{\\cdot}&0\\phantom{.}&\\hspace{-1em}&\\hspace{-1em}\\phantom{\\cdot}&0\\phantom{.}&\\hspace{-1em}&\\hspace{-1em}\\phantom{\\cdot}&0\\phantom{.}&\\hspace{-1em}&\\hspace{-1em}\\phantom{\\cdot}&0\\phantom{.}&\\hspace{-1em}&\\hspace{-1em}\\phantom{\\cdot}&1\\phantom{.}&\\hspace{-1em}&\\hspace{-1em}\\phantom{\\cdot}&0\\phantom{.}&\\hspace{-1em}&\\hspace{-1em}\\phantom{\\cdot}&0\\phantom{.}&\\hspace{-1em}&\\hspace{-1em}\\phantom{\\cdot}&0\\phantom{.}&\\hspace{-1em}&\\hspace{-1em}\\phantom{\\cdot}\\\\\n",
              "0\\phantom{.}&\\hspace{-1em}&\\hspace{-1em}\\phantom{\\cdot}&0\\phantom{.}&\\hspace{-1em}&\\hspace{-1em}\\phantom{\\cdot}&0\\phantom{.}&\\hspace{-1em}&\\hspace{-1em}\\phantom{\\cdot}&0\\phantom{.}&\\hspace{-1em}&\\hspace{-1em}\\phantom{\\cdot}&0\\phantom{.}&\\hspace{-1em}&\\hspace{-1em}\\phantom{\\cdot}&0\\phantom{.}&\\hspace{-1em}&\\hspace{-1em}\\phantom{\\cdot}&0\\phantom{.}&\\hspace{-1em}&\\hspace{-1em}\\phantom{\\cdot}&1\\phantom{.}&\\hspace{-1em}&\\hspace{-1em}\\phantom{\\cdot}&0\\phantom{.}&\\hspace{-1em}&\\hspace{-1em}\\phantom{\\cdot}&0\\phantom{.}&\\hspace{-1em}&\\hspace{-1em}\\phantom{\\cdot}\\\\\n",
              "\\end{array}\\right)\n",
              "\\]"
            ],
            "text/plain": [
              "StateSpace(array([[ 9.16290516e-01,  3.75189470e-03,  0.00000000e+00,\n",
              "        -6.76620370e-02,  2.76994681e-06,  2.76994681e-06,\n",
              "         0.00000000e+00,  0.00000000e+00],\n",
              "       [ 6.51498644e-01,  9.74185042e-01,  0.00000000e+00,\n",
              "         1.06890914e+00, -2.15580901e-05, -2.15580901e-05,\n",
              "         0.00000000e+00,  0.00000000e+00],\n",
              "       [ 0.00000000e+00,  0.00000000e+00,  9.48756646e-01,\n",
              "         0.00000000e+00, -2.36987084e-05,  2.36987084e-05,\n",
              "         0.00000000e+00,  0.00000000e+00],\n",
              "       [ 4.15071057e-03,  1.23208015e-02,  0.00000000e+00,\n",
              "         1.00675997e+00, -1.37347013e-07, -1.37347013e-07,\n",
              "         0.00000000e+00,  0.00000000e+00],\n",
              "       [ 0.00000000e+00,  0.00000000e+00,  0.00000000e+00,\n",
              "         0.00000000e+00,  8.44400000e-01,  0.00000000e+00,\n",
              "         0.00000000e+00,  0.00000000e+00],\n",
              "       [ 0.00000000e+00,  0.00000000e+00,  0.00000000e+00,\n",
              "         0.00000000e+00,  0.00000000e+00,  8.44400000e-01,\n",
              "         0.00000000e+00,  0.00000000e+00],\n",
              "       [-1.00000000e+00,  0.00000000e+00,  0.00000000e+00,\n",
              "         0.00000000e+00,  0.00000000e+00,  0.00000000e+00,\n",
              "         1.00000000e+00,  0.00000000e+00],\n",
              "       [ 0.00000000e+00,  0.00000000e+00, -1.00000000e+00,\n",
              "         0.00000000e+00,  0.00000000e+00,  0.00000000e+00,\n",
              "         0.00000000e+00,  1.00000000e+00]]), array([[0., 0.],\n",
              "       [0., 0.],\n",
              "       [0., 0.],\n",
              "       [0., 0.],\n",
              "       [1., 0.],\n",
              "       [0., 1.],\n",
              "       [0., 0.],\n",
              "       [0., 0.]]), array([[1., 0., 0., 0., 0., 0., 0., 0.],\n",
              "       [0., 1., 0., 0., 0., 0., 0., 0.],\n",
              "       [0., 0., 1., 0., 0., 0., 0., 0.],\n",
              "       [0., 0., 0., 1., 0., 0., 0., 0.],\n",
              "       [0., 0., 0., 0., 0., 0., 1., 0.],\n",
              "       [0., 0., 0., 0., 0., 0., 0., 1.]]), array([[0., 0.],\n",
              "       [0., 0.],\n",
              "       [0., 0.],\n",
              "       [0., 0.],\n",
              "       [0., 0.],\n",
              "       [0., 0.]]), 0.01)"
            ]
          },
          "execution_count": 580,
          "metadata": {},
          "output_type": "execute_result"
        }
      ],
      "source": [
        "Upper_aug = np.hstack((sys_final.A, np.zeros((6,2))))\n",
        "L_aug = np.hstack((np.array([[-1,0,0,0,0,0],\n",
        "                             [0,0,-1,0,0,0]]), np.eye(2) ))\n",
        "A_final_aug = np.vstack((Upper_aug, L_aug))\n",
        "\n",
        "B_final_aug = np.vstack((sys_final.B,np.zeros((2,2))))\n",
        "\n",
        "C_final_aug = np.eye(6,8,2)\n",
        "C_final_aug[:4,:6] = sys_final.C\n",
        "\n",
        "D_final_aug = np.zeros((6,2))\n",
        "\n",
        "sys_final_aug = ctl.ss(A_final_aug, B_final_aug, C_final_aug, D_final_aug, dt=0.01)\n",
        "\n",
        "sys_final_aug\n",
        "# Matrix(B_aug)"
      ]
    },
    {
      "cell_type": "markdown",
      "metadata": {
        "id": "KMuKepGHzINw"
      },
      "source": [
        "## Control Analysis\n",
        "---\n",
        "\n",
        "Here we make all the analysis of the system to design the LQR controller."
      ]
    },
    {
      "cell_type": "markdown",
      "metadata": {
        "id": "r81djWx9zINw"
      },
      "source": [
        "### Function `dlqr`\n",
        "---\n",
        "\n",
        "Create the `control.lqr` function for discrete systems."
      ]
    },
    {
      "cell_type": "code",
      "execution_count": 581,
      "metadata": {
        "id": "7o_3S_DVzINw"
      },
      "outputs": [],
      "source": [
        "def dlqr_calculate(G, H, Q, R, returnPE=False): # Ref.: https://github.com/python-control/python-control/issues/359#issuecomment-759423706\n",
        "  '''\n",
        "  Discrete-time Linear Quadratic Regulator calculation.\n",
        "  State-feedback control  u[k] = -K*x[k]\n",
        "\n",
        "  How to apply the function:    \n",
        "      K = dlqr_calculate(G,H,Q,R)\n",
        "      K, P, E = dlqr_calculate(G,H,Q,R, return_solution_eigs=True)\n",
        "\n",
        "  Inputs:\n",
        "    G, H, Q, R  -> all numpy arrays  (simple float number not allowed)\n",
        "    returnPE: define as True to return Ricatti solution and final eigenvalues\n",
        "\n",
        "  Returns:\n",
        "    K: state feedback gain\n",
        "    P: Ricatti equation solution\n",
        "    E: eigenvalues of (G-HK)  (closed loop z-domain poles)\n",
        "  '''\n",
        "  from scipy.linalg import solve_discrete_are, inv, eig\n",
        "  P = solve_discrete_are(G, H, Q, R)  #Solução Ricatti\n",
        "  K = inv(H.T@P@H + R)@H.T@P@G    #K = (B^T P B + R)^-1 B^T P A \n",
        "\n",
        "  if returnPE == False:   return K\n",
        "\n",
        "  from numpy.linalg import eigvals\n",
        "  eigs = np.array([eigvals(G-H@K)]).T\n",
        "  return K, P, eigs"
      ]
    },
    {
      "cell_type": "markdown",
      "metadata": {
        "id": "cGG7M68eD-W1"
      },
      "source": [
        "### Analysis\n",
        "---"
      ]
    },
    {
      "cell_type": "code",
      "execution_count": 582,
      "metadata": {},
      "outputs": [],
      "source": [
        "#MATRICES WITH NO INTEGRAL ACTION\n",
        "\n",
        "# Q_lqr_final = np.diag([ 1600 /(0.5**2), \n",
        "#                         5.5 /(0.1**2), \n",
        "#                         300 /(1**2), \n",
        "#                         47 /(0.14**2), \n",
        "#                         0 /(1**2), \n",
        "#                         0 /(1**2),\n",
        "#                         0.00,\n",
        "#                         0.00])\n",
        "\n",
        "# R_lqr_final = np.diag([0.7e-2 /(0.5**2),\n",
        "                    #    0.7e-2 /(0.5**2)])\n",
        "\n",
        "\n",
        "# TELEOP OK\n",
        "# Q_lqr_final = np.diag([ 1680 /(0.5**2), \n",
        "#                         6 /(0.1**2), \n",
        "#                         300 /(1**2), \n",
        "#                         50 /(0.14**2), \n",
        "#                         0 /(1**2), \n",
        "#                         0 /(1**2),\n",
        "#                         0.001,\n",
        "#                         0.0012])\n",
        "\n",
        "# R_lqr_final = np.diag([0.71e-2 /(0.5**2),\n",
        "#                        0.71e-2 /(0.5**2)])\n",
        "\n",
        "\n",
        "#TELEOP OK 2 (error readings)\n",
        "# Q_lqr_final = np.diag([ 1820 /(0.5**2), \n",
        "#                         6.7 /(0.1**2), \n",
        "#                         300 /(1**2), \n",
        "#                         57 /(0.14**2), \n",
        "#                         0 /(1**2), \n",
        "#                         0 /(1**2),\n",
        "#                         0.001,\n",
        "#                         0.0012])\n",
        "\n",
        "# R_lqr_final = np.diag([0.701e-2 /(0.5**2),\n",
        "#                        0.701e-2 /(0.5**2)])"
      ]
    },
    {
      "cell_type": "code",
      "execution_count": 613,
      "metadata": {},
      "outputs": [
        {
          "data": {
            "text/latex": [
              "$\\displaystyle \\left[\\begin{matrix}-12919.3411918064 & -3960.89635807413 & -597.282038109003 & -29349.5532847772 & 0.257863532914322 & 0.111520895110095 & -2.14099392008506 \\cdot 10^{-38} & 3.71571600043629 \\cdot 10^{-17}\\\\-12919.3411918063 & -3960.89635807414 & 597.282038109007 & -29349.5532847772 & 0.111520895110095 & 0.257863532914323 & -8.48211735414508 \\cdot 10^{-39} & 1.47207980717306 \\cdot 10^{-17}\\end{matrix}\\right]$"
            ],
            "text/plain": [
              "Matrix([\n",
              "[-12919.3411918064, -3960.89635807413, -597.282038109003, -29349.5532847772, 0.257863532914322, 0.111520895110095, -2.14099392008506e-38, 3.71571600043629e-17],\n",
              "[-12919.3411918063, -3960.89635807414,  597.282038109007, -29349.5532847772, 0.111520895110095, 0.257863532914323, -8.48211735414508e-39, 1.47207980717306e-17]])"
            ]
          },
          "execution_count": 613,
          "metadata": {},
          "output_type": "execute_result"
        }
      ],
      "source": [
        "Q_lqr_final = np.diag([ 8000 /(0.5**2), \n",
        "                        75 /(0.1**2), \n",
        "                        1000 /(1**2), \n",
        "                        450 /(0.14*2), \n",
        "                        0 /(1**2), \n",
        "                        0 /(1**2),\n",
        "                        0,\n",
        "                        0])\n",
        "\n",
        "R_lqr_final = np.diag([1.3e-4 /(0.5**2),\n",
        "                       1.3e-4 /(0.5**2)])\n",
        "K_dlqr_final, S_dlqr_final, E_dlqr_final = dlqr_calculate(sys_final_aug.A,sys_final_aug.B,Q_lqr_final,R_lqr_final,True)\n",
        "\n",
        "Matrix(K_dlqr_final)"
      ]
    },
    {
      "cell_type": "code",
      "execution_count": 584,
      "metadata": {
        "colab": {
          "base_uri": "https://localhost:8080/",
          "height": 138
        },
        "id": "sTV2PXR_D-W3",
        "outputId": "58edd463-36bc-494a-cd1b-c61b6c9a07f7"
      },
      "outputs": [
        {
          "data": {
            "text/latex": [
              "$\\displaystyle \\left[\\begin{matrix}0.758066501245503\\\\0.758066501245503\\\\0.965409073903629\\\\0.965409073903629\\\\0.8427057427804\\\\0.8427057427804\\\\0.999999999999999\\\\1.0\\end{matrix}\\right]$"
            ],
            "text/plain": [
              "Matrix([\n",
              "[0.758066501245503],\n",
              "[0.758066501245503],\n",
              "[0.965409073903629],\n",
              "[0.965409073903629],\n",
              "[  0.8427057427804],\n",
              "[  0.8427057427804],\n",
              "[0.999999999999999],\n",
              "[              1.0]])"
            ]
          },
          "execution_count": 584,
          "metadata": {},
          "output_type": "execute_result"
        }
      ],
      "source": [
        "Matrix(abs(E_dlqr_final))"
      ]
    },
    {
      "cell_type": "code",
      "execution_count": 585,
      "metadata": {
        "colab": {
          "base_uri": "https://localhost:8080/",
          "height": 138
        },
        "id": "dyYvGM0S5lzI",
        "outputId": "4cac08b3-a36a-4b8a-e70f-f86e33e30b38"
      },
      "outputs": [
        {
          "name": "stderr",
          "output_type": "stream",
          "text": [
            "/tmp/ipykernel_4260/1631304275.py:1: DeprecationWarning: The StateSpace `states` attribute will be deprecated in a future release.  Use `nstates` instead.\n",
            "  Vd = 0.0007*np.eye(sys_final.states) #TODO tune 0.0007\n",
            "/tmp/ipykernel_4260/1631304275.py:4: DeprecationWarning: The LTI `outputs` attribute will be deprecated in a future release.  Use `noutputs` instead.\n",
            "  Vn = 0.001*np.eye(sys_final.outputs) #TODO tune 0.022\n"
          ]
        },
        {
          "data": {
            "text/latex": [
              "$\\displaystyle \\left[\\begin{matrix}0.49117022188691 & 0.00375288430150991 & 5.1418968592974 \\cdot 10^{-21} & -0.0553164886344156\\\\0.341579996792336 & 0.974178476465664 & -3.25414920929892 \\cdot 10^{-20} & 0.770255999843955\\\\-1.84183395612296 \\cdot 10^{-21} & 1.77051921372965 \\cdot 10^{-21} & 0.515319205442692 & -1.8446996038017 \\cdot 10^{-22}\\\\-0.00467372852790142 & 0.0123228877384467 & 5.00347335366548 \\cdot 10^{-23} & 0.729644361591905\\\\3.49063995661211 \\cdot 10^{-6} & -3.64960046579066 \\cdot 10^{-10} & -2.96984017336465 \\cdot 10^{-5} & -1.40872322476729 \\cdot 10^{-8}\\\\3.49063995652432 \\cdot 10^{-6} & -3.64960059050986 \\cdot 10^{-10} & 2.96984017350333 \\cdot 10^{-5} & -1.40872322624841 \\cdot 10^{-8}\\end{matrix}\\right]$"
            ],
            "text/plain": [
              "Matrix([\n",
              "[     0.49117022188691,   0.00375288430150991,   5.1418968592974e-21,  -0.0553164886344156],\n",
              "[    0.341579996792336,     0.974178476465664, -3.25414920929892e-20,    0.770255999843955],\n",
              "[-1.84183395612296e-21,  1.77051921372965e-21,     0.515319205442692, -1.8446996038017e-22],\n",
              "[ -0.00467372852790142,    0.0123228877384467,  5.00347335366548e-23,    0.729644361591905],\n",
              "[  3.49063995661211e-6, -3.64960046579066e-10,  -2.96984017336465e-5, -1.40872322476729e-8],\n",
              "[  3.49063995652432e-6, -3.64960059050986e-10,   2.96984017350333e-5, -1.40872322624841e-8]])"
            ]
          },
          "execution_count": 585,
          "metadata": {},
          "output_type": "execute_result"
        }
      ],
      "source": [
        "Vd = 0.0007*np.eye(sys_final.states) #TODO tune 0.0007\n",
        "Vd[1,1] = 100.0\n",
        "Vd[3,3] = 0.0019\n",
        "Vn = 0.001*np.eye(sys_final.outputs) #TODO tune 0.022\n",
        "\n",
        "Kf_dlqe_final = dlqr_calculate(sys_final.A.transpose(), sys_final.C.transpose(),Vd,Vn).transpose()\n",
        "sys_KF = ctl.ss(sys_final.A-Kf_dlqe_final@sys_final.C, np.hstack((sys_final.B, Kf_dlqe_final)),np.eye(6), 0*np.hstack((sys_final.B, Kf_dlqe_final)),dt=0.01)\n",
        "# sys_KF\n",
        "Matrix(Kf_dlqe_final)"
      ]
    },
    {
      "cell_type": "markdown",
      "metadata": {},
      "source": [
        "### Linear simulation\n",
        "---"
      ]
    },
    {
      "cell_type": "code",
      "execution_count": 586,
      "metadata": {
        "colab": {
          "base_uri": "https://localhost:8080/",
          "height": 777
        },
        "id": "SGL2faitukR0",
        "outputId": "a34ef136-d33c-469c-cd9a-650d23ef6488"
      },
      "outputs": [],
      "source": [
        "%matplotlib qt\n",
        "# timee = np.arange(0, 10+0.01, 0.01)\n",
        "# a = np.array([[0,0.0,0,0.1,0,0]])\n",
        "# y = np.array([[0,0.0,0,0.1]])\n",
        "\n",
        "# a_series = np.array([[0,0.0,0,0.1,0,0]])\n",
        "# y_series = np.array([[0,0.0,0,0.1]])\n",
        "\n",
        "# kf_y = np.array([[0,0.0,0,0.1,0,0]])\n",
        "\n",
        "# # motor_s = np.array([[0, 0]])\n",
        "# # motor_o = np.array([[0, 0]])\n",
        "# # red = np.array([[0,0.0,0,1.0]])\n",
        "\n",
        "# u_sim = np.array([[0,0]])\n",
        "# uKF_sim = np.array([[0,0]])\n",
        "# u2_sim = np.array([[0,0]])\n",
        "\n",
        "# for tim in timee[:-1]:\n",
        "#   a = np.vstack((a ,np.array(sys_final.dynamics(t=tim,x=a[-1],u=u_sim[-1]))))\n",
        "#   y = np.vstack((y, sys_final.C@a[-1]))\n",
        "\n",
        "#   kf_y = np.vstack((kf_y, np.array(sys_KF.dynamics(t=tim,x=kf_y[-1],u=np.hstack((uKF_sim[-1].reshape(1,2), y[-1])))) ))\n",
        "  \n",
        "#   # a_series = np.vstack((a_series ,np.array(sys_series.dynamics(t=tim,x=a_series[-1],u=u2_sim[-1]))))\n",
        "#   # y_series = np.vstack((y_series, sys_series.C@a_series[-1]))\n",
        "\n",
        "#   # motor_s = np.vstack((motor_s, motor_model2.dynamics(t=tim,x=motor_s[-1], u=u2_sim[-1]) ))\n",
        "#   # motor_o = np.vstack((motor_o, (motor_model2.C@motor_s[-1].reshape(2,1)).reshape(1,2) ))\n",
        "#   # red = np.vstack((red, sys_red.dynamics(t=tim,x=red[-1], u=motor_o[-1]) ))\n",
        "\n",
        "#   u_sim = np.vstack((u_sim,-K_dlqr_final@a[-1]))\n",
        "#   uKF_sim = np.vstack((uKF_sim,-K_dlqr_final@kf_y[-1]))\n",
        "  # u2_sim = np.vstack((u2_sim, -K_dlqr_series@a_series[-1] ))\n",
        "\n",
        "\n",
        "\n",
        "# u_sim = np.ones((2,len(timee)))*0.01\n",
        "# y,_,_ = ctl.lsim(sys_final, T=timee, U=u_sim)\n",
        "# inputs = np.hstack((u_sim.transpose(), y))\n",
        "# Y,_,_ = ctl.lsim(sys_KF,T=timee, U=inputs)\n",
        "# # plt.plot(timee,a[:,0])\n",
        "# # plt.plot(timee,a[:,1])\n",
        "# fig1 = plt.figure()\n",
        "# # plt.plot(timee,a[:,3],'o')\n",
        "# plt.plot(timee,y[:,3])\n",
        "# plt.plot(timee,kf_y[:,3],'--')\n",
        "# # plt.plot(timee,y_series[:,2],'r')\n",
        "\n",
        "# fig2 = plt.figure()\n",
        "# # plt.plot(timee,a[:,3],'o')\n",
        "# plt.plot(timee,y[:,1])\n",
        "# plt.plot(timee,kf_y[:,1],'--')\n",
        "# # plt.plot(timee,y_series[:,1],'r')\n",
        "\n",
        "# fig3 = plt.figure()\n",
        "# # plt.plot(timee,a[:,3],'o')\n",
        "# plt.plot(timee,a[:,5])\n",
        "# plt.plot(timee,kf_y[:,5],'--')\n",
        "# plt.plot(timee,a_series[:,1],'--')\n",
        "\n",
        "# fig1 = plt.figure()\n",
        "# plt.plot(timee,Y)\n",
        "# plt.plot(timee,u_sim[:,0])\n",
        "# # plt.plot(timee,a[:,4])\n",
        "# # plt.plot(timee,a[:,5])\n",
        "# # sys_final.dynamics(t=0,x=[0,0.0,0,0.1,0,0],u=[0,0])\n",
        "# # sys_final.dynamics(t=timeee,x=a[-1],u=[1,1])"
      ]
    },
    {
      "cell_type": "code",
      "execution_count": 587,
      "metadata": {
        "id": "lJnQxItRD-W3"
      },
      "outputs": [],
      "source": [
        "# Vd = 0.001*np.eye(8) #TODO tune\n",
        "# Vn = 0.001*np.eye(6) #TODO tune\n",
        "\n",
        "# Kf_dlqe_final, Sf_dlqe_final, Ef_dlqe_final = dlqr_calculate(sys_final.A.transpose(), sys_final.C.transpose(),Vd,Vn,True)\n",
        "\n",
        "# Matrix(Kf_dlqe_final.transpose())"
      ]
    },
    {
      "cell_type": "markdown",
      "metadata": {
        "id": "DWXB2KXkzINz"
      },
      "source": [
        "## System Simulation\n",
        "---\n",
        "\n",
        "The simulation was done via te `scipy.integrate` module, using the `ode` class."
      ]
    },
    {
      "cell_type": "code",
      "execution_count": 588,
      "metadata": {
        "id": "QM9vCOJCzIN0"
      },
      "outputs": [],
      "source": [
        "sys2sim = system_equations.subs([d_v,visc_v,l_v,r_v,Mp_v,Mw_v,Iw_c_v,Iw_r_v,Ip_x_v,Ip_y_v,Ip_z_v,g_v])\n",
        "sys2sim.row_del(3)\n",
        "sys2sim.row_del(4)\n",
        "\n",
        "state_initial_conditions = [0,0.0,0,0.5]\n",
        "initial_inputs = [0,0]\n",
        "# x_yaw_refs = np.array([0.2, 1])\n",
        "t0 = 0\n",
        "\n",
        "#* Create lambda functions of the system and the jacobian\n",
        "\n",
        "reduced_state_vec = Matrix(list(symbols('x1:4, x5',real=True)))\n",
        "\n",
        "func = lambdify([t, reduced_state_vec, u],sys2sim,'numpy')\n",
        "\n",
        "# func(0,state_initial_conditions, initial_inputs) # Test the lambda function"
      ]
    },
    {
      "cell_type": "code",
      "execution_count": 589,
      "metadata": {
        "colab": {
          "base_uri": "https://localhost:8080/"
        },
        "id": "jULDQRwSzIN0",
        "outputId": "b2ba6efd-0f38-4836-a9c9-9e6772c7a46c"
      },
      "outputs": [
        {
          "name": "stdout",
          "output_type": "stream",
          "text": [
            "2\n"
          ]
        }
      ],
      "source": [
        "from scipy import integrate\n",
        "\n",
        "simulator = integrate.ode(func)                                     # Ode class object used for simulation\n",
        "simulator.set_initial_value(state_initial_conditions, t0)           # Set initial consitions of the system\n",
        "simulator.set_integrator('vode')\n",
        "simulator.set_f_params(initial_inputs)                              # Set the initial inputs (wheel torques) values in the system\n",
        "# simulator.set_jac_params(initial_inputs)                            # Set the initial inputs (wheel torques) values in the jacobian\n",
        "\n",
        "t1 = 25                                                           # Max. time for simulation  \n",
        "dt = 0.01                                                          # Simulation time step\n",
        "controller_time = 0                                                # Initial controller time (-1 means: \"provide a control effort based on the initial states\") \n",
        "controller_calls = 0                                                # Counts how many times the controller was called (just debug)\n",
        "\n",
        "# estimated_states_history = np.array(state_initial_conditions, dtype=object)\n",
        "# estimated_states_history = np.hstack((estimated_states_history, np.zeros(4))).reshape(8,1)\n",
        "\n",
        "time_history = np.arange(start=0,stop=t1+1*dt,step=dt)\n",
        "input_history = np.array(initial_inputs,dtype=object).reshape(2,1)\n",
        "\n",
        "motor_states = np.array([[0],[0]])\n",
        "motor_outputs = np.array([[0],[0]])\n",
        "estimated_states = np.array([[0],[0], [0], [0.2], [0], [0]])\n",
        "history = np.array(state_initial_conditions).reshape(4,1)\n",
        "\n",
        "x_error = 0\n",
        "yaw_error = 0\n",
        "x_yaw_refs = np.array([0.2, 0])\n",
        "\n",
        "# KF = Kf_dlqe_final.transpose()\n",
        "\n",
        "mag_NOISE_y = 1e-3 \n",
        "P = 0.0001*np.eye(6)\n",
        "Vd = 0.0006*np.eye(6) #TODO tune 0.0007\n",
        "Vn = 0.006*np.eye(4) #TODO tune 0.022\n",
        "\n",
        "while simulator.successful() and simulator.t <= t1:                 \n",
        "    # Simulation main loop\n",
        "    motor_states = motor_model2.dynamics(t=simulator.t+dt, x=motor_states, u=input_history[:,-1]).reshape(2,1) #estimated_states[-2:,-1],\n",
        "    motor_outputs = np.hstack((motor_outputs, motor_model2.C@motor_states)) \n",
        "    \n",
        "    uIMPULSE = 0.0\n",
        "    if simulator.t > 3 and simulator.t < 3.2: uIMPULSE = 0.2                      # Apply a torque pulse as external disturbance from time 3 - 4\n",
        "    # elif simulator.t in time_history[int(3/dt):int(4/dt)]: uIMPULSE = -0.3\n",
        "    else: uIMPULSE = 0.0\n",
        "    # controller_time += 1\n",
        "    \n",
        "    simulator.set_f_params(motor_outputs[:,-1] + uIMPULSE)       # Update the controller values in the systems equations\n",
        "    history_last = np.array([simulator.integrate(simulator.t+dt)],dtype=object).reshape(4,1) + np.random.rand(4,1)*mag_NOISE_y        # Simulate one time step and save in history\n",
        "    \n",
        "    estimated_statesp = (sys_final.A@estimated_states[:,-1]).reshape(6,1) + sys_final.B@input_history[:,-1].reshape(2,1)\n",
        "    Ymodelo = sys_final.C@estimated_statesp\n",
        "    P = sys_final.A@P@sys_final.A.transpose() + Vd\n",
        "\n",
        "    KF = P@sys_final.C.transpose()@np.linalg.inv(sys_final.C@P@sys_final.C.transpose()+Vn)\n",
        "    estimated_states = np.hstack((estimated_states, estimated_statesp + KF@(history_last[:,-1].reshape(4,1)-Ymodelo) ))\n",
        "    P = (np.eye(6) - KF@sys_final.C)@P\n",
        "\n",
        "    # estimated_states = np.hstack((estimated_states, (sys_KF.dynamics(t=simulator.t+dt, x=estimated_states[:,-1], u=np.vstack((input_history[:,-1].reshape(2,1), history_last)) )).reshape(6,1))) #estimated_states[:,-1]\n",
        "    history = np.hstack((history, history_last))  \n",
        "\n",
        "    if simulator.t > 3:                         # Apply a reference change for X and Yaw vel\n",
        "        x_yaw_refs = np.array([0.2, 0])\n",
        "    \n",
        "    x_error += x_yaw_refs[0] - estimated_states[0,-1] \n",
        "    yaw_error += x_yaw_refs[1] - estimated_states[2,-1]\n",
        "    error_matrix = np.array([[x_error],[yaw_error]])\n",
        "    \n",
        "    final_states = np.vstack((estimated_states[:,-1], error_matrix))\n",
        "    \n",
        "    input_history = np.hstack((input_history, (-K_dlqr_final@final_states[:,-1].reshape(8,1)).reshape(2,1)))\n",
        "    \n",
        "print(simulator.get_return_code())\n"
      ]
    },
    {
      "cell_type": "code",
      "execution_count": 590,
      "metadata": {},
      "outputs": [],
      "source": [
        "\n",
        "history_a = np.asarray(history)\n",
        "input_history_a = np.asarray(input_history)\n",
        "estimated_states_a = np.asarray(estimated_states)\n",
        "motor_outputs_a = np.asarray(motor_outputs)\n",
        "x_pos = integrate.cumtrapz(y = history[0,:],x = time_history,initial=0) # Integrate the Velocity values to get position information"
      ]
    },
    {
      "cell_type": "markdown",
      "metadata": {
        "id": "krGmJYKrzIN0"
      },
      "source": [
        "## Plotting & Animation\n",
        "----"
      ]
    },
    {
      "cell_type": "code",
      "execution_count": 591,
      "metadata": {
        "colab": {
          "base_uri": "https://localhost:8080/",
          "height": 620
        },
        "id": "LbvQLBuRzIN1",
        "outputId": "47a16da2-db20-4bda-f036-5ef947e7e6ff"
      },
      "outputs": [
        {
          "data": {
            "image/png": "[encoded data removed]",
            "text/plain": [
              "<Figure size 432x288 with 1 Axes>"
            ]
          },
          "metadata": {
            "needs_background": "light"
          },
          "output_type": "display_data"
        },
        {
          "data": {
            "image/png": "[encoded data removed]",
            "text/plain": [
              "<Figure size 432x288 with 1 Axes>"
            ]
          },
          "metadata": {
            "needs_background": "light"
          },
          "output_type": "display_data"
        },
        {
          "data": {
            "image/png": "[encoded data removed]",
            "text/plain": [
              "<Figure size 432x288 with 1 Axes>"
            ]
          },
          "metadata": {
            "needs_background": "light"
          },
          "output_type": "display_data"
        },
        {
          "data": {
            "image/png": "[encoded data removed]",
            "text/plain": [
              "<Figure size 432x288 with 1 Axes>"
            ]
          },
          "metadata": {
            "needs_background": "light"
          },
          "output_type": "display_data"
        },
        {
          "data": {
            "image/png": "[encoded data removed]",
            "text/plain": [
              "<Figure size 432x288 with 1 Axes>"
            ]
          },
          "metadata": {
            "needs_background": "light"
          },
          "output_type": "display_data"
        },
        {
          "data": {
            "image/png": "[encoded data removed]",
            "text/plain": [
              "<Figure size 432x288 with 1 Axes>"
            ]
          },
          "metadata": {
            "needs_background": "light"
          },
          "output_type": "display_data"
        },
        {
          "data": {
            "image/png": "[encoded data removed]",
            "text/plain": [
              "<Figure size 432x288 with 1 Axes>"
            ]
          },
          "metadata": {
            "needs_background": "light"
          },
          "output_type": "display_data"
        }
      ],
      "source": [
        "%matplotlib inline\n",
        "fig1 = plt.figure()\n",
        "plt.plot(time_history,history_a[0,:],'-')\n",
        "plt.plot(time_history,estimated_states_a[0,:],\"--\")\n",
        "plt.title(\"Linear vel\")\n",
        "plt.xlabel(\"time (s)\")\n",
        "plt.ylabel(\"m/s\")\n",
        "plt.grid()\n",
        "\n",
        "fig2 = plt.figure()\n",
        "plt.plot(time_history,history_a[1,:])\n",
        "plt.plot(time_history,estimated_states_a[1,:],\"--\")\n",
        "plt.title(\"Pitch vel\")\n",
        "plt.xlabel(\"time (s)\")\n",
        "plt.ylabel(\"rad/s\")\n",
        "plt.grid()\n",
        "\n",
        "fig3 = plt.figure()\n",
        "plt.plot(time_history,history_a[2,:])\n",
        "plt.plot(time_history,estimated_states_a[2,:],\"--\")\n",
        "plt.title(\"Yaw vel\")\n",
        "plt.xlabel(\"time (s)\")\n",
        "plt.ylabel(\"rad/s \")\n",
        "plt.grid()\n",
        "\n",
        "fig4 = plt.figure()\n",
        "plt.plot(time_history,history_a[3,:])\n",
        "plt.plot(time_history,estimated_states_a[3,:],\"--\")\n",
        "plt.title(\"Pitch\")\n",
        "plt.xlabel(\"time (s)\")\n",
        "plt.ylabel(\"rad\")\n",
        "plt.grid()\n",
        "\n",
        "fig5 = plt.figure()\n",
        "plt.plot(time_history,motor_outputs_a[0,:], label='Left Torque')\n",
        "plt.plot(time_history,motor_outputs_a[1,:], label='Rigth Torque')\n",
        "plt.title(\"Wheel Torque\")\n",
        "plt.legend()\n",
        "plt.xlabel(\"time (s)\")\n",
        "plt.ylabel(\"N.m\")\n",
        "plt.grid()\n",
        "\n",
        "fig5 = plt.figure()\n",
        "plt.plot(time_history,input_history_a[0,:], label='Left Torque')\n",
        "plt.plot(time_history,input_history_a[1,:], label='Rigth Torque')\n",
        "plt.title(\"Wheel PWM\")\n",
        "plt.legend()\n",
        "plt.xlabel(\"time (s)\")\n",
        "plt.ylabel(\"byte\")\n",
        "plt.grid()\n",
        "\n",
        "fig7 = plt.figure()\n",
        "plt.plot(time_history,x_pos)\n",
        "plt.title(\"X positions\")\n",
        "plt.xlabel(\"time (s)\")\n",
        "plt.ylabel(\"m\")\n",
        "plt.grid()"
      ]
    },
    {
      "cell_type": "code",
      "execution_count": 592,
      "metadata": {
        "colab": {
          "base_uri": "https://localhost:8080/",
          "height": 222
        },
        "id": "Ky2VUhEmzIN1",
        "outputId": "28545b95-7fca-4804-d2e9-052bbcead49d"
      },
      "outputs": [
        {
          "data": {
            "image/png": "[encoded data removed]",
            "text/plain": [
              "<Figure size 599.998x522 with 1 Axes>"
            ]
          },
          "metadata": {
            "needs_background": "light"
          },
          "output_type": "display_data"
        }
      ],
      "source": [
        "#Generates an animation using Matplotlib\n",
        "%matplotlib inline\n",
        "from matplotlib.patches import Circle\n",
        "from matplotlib.animation import FuncAnimation\n",
        "\n",
        "xlim = (-1.5,1.5)\n",
        "ylim = (-0.1,1.0)\n",
        "\n",
        "fig = plt.figure(figsize=(8.3333, 7.25), dpi=72) #figsize=(8.3333, 7.25), dpi=72\n",
        "ax = fig.add_subplot(111,xlim=xlim,ylim=ylim)\n",
        "ax.set_aspect('equal')\n",
        "ax.grid(alpha = 0.3)\n",
        "\n",
        "height = 0.354\n",
        "\n",
        "ax.plot([xlim[0],xlim[1]],[0,0],'-k')         # Ground\n",
        "\n",
        "pend_rod, = ax.plot([x_pos[0], x_pos[0]+height*np.math.sin(history[3,0])],[r_v[1],r_v[1] + height*np.math.cos(history[3,0])], 'r', lw=3)\n",
        "pend_wheel = ax.add_patch(Circle((x_pos[0],r_v[1]), r_v[1], fc='b', zorder=3))\n",
        "time_template = 'time = %.3fs'\n",
        "x_ref_template = 'X_vel input = %.1f m/s'\n",
        "yaw_ref_template = 'Yaw_vel input = %.1f rad/s'\n",
        "\n",
        "x_curr_template = 'Current X_vel = %.3f m/s'\n",
        "yaw_curr_template = 'Current Yaw_vel = %.3f rad/s'\n",
        "\n",
        "\n",
        "time_text = ax.text(0.02, 0.9, '', transform=ax.transAxes)\n",
        "x_ref_text = ax.text(0.02, 0.8, '', transform=ax.transAxes)\n",
        "yaw_ref_text = ax.text(0.02, 0.7, '', transform=ax.transAxes)\n",
        "x_curr_text = ax.text(0.35, 0.8, '', transform=ax.transAxes)\n",
        "yaw_curr_text = ax.text(0.35, 0.7, '', transform=ax.transAxes)\n",
        "\n",
        "def init_anim():\n",
        "  pend_rod, = ax.plot([x_pos[0], x_pos[0]+height*np.math.sin(history[3,0])],[r_v[1],r_v[1] + height*np.math.cos(history[3,0])], 'r', lw=3)\n",
        "  pend_wheel = ax.add_patch(Circle((x_pos[0],r_v[1]), r_v[1], fc='b', zorder=3))\n",
        "  time_text.set_text('')\n",
        "  x_ref_text.set_text('')\n",
        "  yaw_ref_text.set_text('')\n",
        "  x_curr_text.set_text('')\n",
        "  yaw_curr_text.set_text('')\n",
        "  return pend_rod, pend_wheel, time_text, x_ref_text, yaw_ref_text, x_curr_text, yaw_curr_text\n",
        "  \n",
        "def animate(i):\n",
        "  xaxis = [x_pos[i], x_pos[i] + height*np.math.sin(history[3,i])]\n",
        "  yaxis = [r_v[1], r_v[1] + height*np.math.cos(history[3,i])]\n",
        "  pend_rod.set_data(xaxis,yaxis)\n",
        "  pend_wheel.set_center((x_pos[i],r_v[1]))\n",
        "  \n",
        "  time_text.set_text(time_template % (time_history[i]))\n",
        "  x_curr_text.set_text(x_curr_template % (history[0,i]))\n",
        "  yaw_curr_text.set_text(yaw_curr_template % (history[2,i]))\n",
        "  \n",
        "  if time_history[i] > 3:\n",
        "    x_ref_text.set_text(x_ref_template % (-0.3))\n",
        "    yaw_ref_text.set_text(yaw_ref_template % (0.0))\n",
        "  else:\n",
        "    x_ref_text.set_text(x_ref_template % (0.2))\n",
        "    yaw_ref_text.set_text(yaw_ref_template % (1.0))\n",
        "  return pend_rod, pend_wheel, time_text, x_ref_text, yaw_ref_text\n",
        "\n",
        "anim = FuncAnimation(fig, animate,frames=len(time_history),interval=10,blit=True)"
      ]
    },
    {
      "cell_type": "code",
      "execution_count": 593,
      "metadata": {
        "id": "awN9Gq8KzIN1"
      },
      "outputs": [],
      "source": [
        "# anim.save(\"animation.gif\", fps=36) #Generates a .gif for the animation"
      ]
    }
  ],
  "metadata": {
    "colab": {
      "collapsed_sections": [
        "S4XurFXxzINn",
        "oiZQICCJzINp",
        "N5psbXNszINr",
        "FlxtGB0czINw",
        "r81djWx9zINw",
        "CmzJcBazIYAE"
      ],
      "name": "bbot_control_notebook_atualizado.ipynb",
      "provenance": [],
      "toc_visible": true
    },
    "interpreter": {
      "hash": "fe44fef87f92f48a3a32707d0df204585f471652bc0ce87358a3ce712bc24db0"
    },
    "kernelspec": {
      "display_name": "Python 3.9.7 64-bit",
      "name": "python3"
    },
    "language_info": {
      "codemirror_mode": {
        "name": "ipython",
        "version": 3
      },
      "file_extension": ".py",
      "mimetype": "text/x-python",
      "name": "python",
      "nbconvert_exporter": "python",
      "pygments_lexer": "ipython3",
      "version": "3.8.10"
    },
    "orig_nbformat": 4
  },
  "nbformat": 4,
  "nbformat_minor": 0
}
